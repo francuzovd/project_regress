{
 "cells": [
  {
   "cell_type": "code",
   "execution_count": 1,
   "metadata": {},
   "outputs": [],
   "source": [
    "import numpy as np\n",
    "import pandas as pd\n",
    "import matplotlib.pyplot as plt\n",
    "from sklearn.metrics import r2_score as r2\n",
    "from sklearn.metrics import mean_squared_error as mse\n",
    "from sklearn.model_selection import train_test_split as tts\n",
    "\n",
    "from sklearn.linear_model import LinearRegression\n",
    "from sklearn.ensemble import RandomForestRegressor\n",
    "from sklearn.ensemble import GradientBoostingRegressor\n",
    "\n",
    "%matplotlib inline"
   ]
  },
  {
   "cell_type": "markdown",
   "metadata": {},
   "source": [
    "Загружаем данные"
   ]
  },
  {
   "cell_type": "code",
   "execution_count": 2,
   "metadata": {},
   "outputs": [],
   "source": [
    "data = pd.read_csv('train.csv')\n",
    "test = pd.read_csv('test.csv')"
   ]
  },
  {
   "cell_type": "code",
   "execution_count": 3,
   "metadata": {},
   "outputs": [],
   "source": [
    "# функция дял определения качества модели\n",
    "def model_score(model):\n",
    "    y_tpred = model.predict(train[fts])\n",
    "    y_vpred = model.predict(valid[fts])\n",
    "    print('Train score is ', r2(y_train, y_tpred))\n",
    "    print('Valid score is ', r2(y_valid,y_vpred))"
   ]
  },
  {
   "cell_type": "markdown",
   "metadata": {},
   "source": [
    "Изучаем данные"
   ]
  },
  {
   "cell_type": "code",
   "execution_count": 4,
   "metadata": {},
   "outputs": [
    {
     "data": {
      "text/plain": [
       "Index(['Id', 'DistrictId', 'Rooms', 'Square', 'LifeSquare', 'KitchenSquare',\n",
       "       'Floor', 'HouseFloor', 'HouseYear', 'Ecology_1', 'Ecology_2',\n",
       "       'Ecology_3', 'Social_1', 'Social_2', 'Social_3', 'Healthcare_1',\n",
       "       'Helthcare_2', 'Shops_1', 'Shops_2', 'Price'],\n",
       "      dtype='object')"
      ]
     },
     "execution_count": 4,
     "metadata": {},
     "output_type": "execute_result"
    }
   ],
   "source": [
    "data.columns"
   ]
  },
  {
   "cell_type": "code",
   "execution_count": 5,
   "metadata": {},
   "outputs": [
    {
     "name": "stdout",
     "output_type": "stream",
     "text": [
      "<class 'pandas.core.frame.DataFrame'>\n",
      "RangeIndex: 10000 entries, 0 to 9999\n",
      "Data columns (total 20 columns):\n",
      "Id               10000 non-null int64\n",
      "DistrictId       10000 non-null int64\n",
      "Rooms            10000 non-null float64\n",
      "Square           10000 non-null float64\n",
      "LifeSquare       7887 non-null float64\n",
      "KitchenSquare    10000 non-null float64\n",
      "Floor            10000 non-null int64\n",
      "HouseFloor       10000 non-null float64\n",
      "HouseYear        10000 non-null int64\n",
      "Ecology_1        10000 non-null float64\n",
      "Ecology_2        10000 non-null object\n",
      "Ecology_3        10000 non-null object\n",
      "Social_1         10000 non-null int64\n",
      "Social_2         10000 non-null int64\n",
      "Social_3         10000 non-null int64\n",
      "Healthcare_1     5202 non-null float64\n",
      "Helthcare_2      10000 non-null int64\n",
      "Shops_1          10000 non-null int64\n",
      "Shops_2          10000 non-null object\n",
      "Price            10000 non-null float64\n",
      "dtypes: float64(8), int64(9), object(3)\n",
      "memory usage: 1.5+ MB\n"
     ]
    }
   ],
   "source": [
    "data.info()"
   ]
  },
  {
   "cell_type": "code",
   "execution_count": 6,
   "metadata": {},
   "outputs": [
    {
     "data": {
      "text/html": [
       "<div>\n",
       "<style scoped>\n",
       "    .dataframe tbody tr th:only-of-type {\n",
       "        vertical-align: middle;\n",
       "    }\n",
       "\n",
       "    .dataframe tbody tr th {\n",
       "        vertical-align: top;\n",
       "    }\n",
       "\n",
       "    .dataframe thead th {\n",
       "        text-align: right;\n",
       "    }\n",
       "</style>\n",
       "<table border=\"1\" class=\"dataframe\">\n",
       "  <thead>\n",
       "    <tr style=\"text-align: right;\">\n",
       "      <th></th>\n",
       "      <th>Id</th>\n",
       "      <th>DistrictId</th>\n",
       "      <th>Rooms</th>\n",
       "      <th>Square</th>\n",
       "      <th>LifeSquare</th>\n",
       "      <th>KitchenSquare</th>\n",
       "      <th>Floor</th>\n",
       "      <th>HouseFloor</th>\n",
       "      <th>HouseYear</th>\n",
       "      <th>Ecology_1</th>\n",
       "      <th>Social_1</th>\n",
       "      <th>Social_2</th>\n",
       "      <th>Social_3</th>\n",
       "      <th>Healthcare_1</th>\n",
       "      <th>Helthcare_2</th>\n",
       "      <th>Shops_1</th>\n",
       "      <th>Price</th>\n",
       "    </tr>\n",
       "  </thead>\n",
       "  <tbody>\n",
       "    <tr>\n",
       "      <th>count</th>\n",
       "      <td>10000.00000</td>\n",
       "      <td>10000.000000</td>\n",
       "      <td>10000.000000</td>\n",
       "      <td>10000.000000</td>\n",
       "      <td>7887.000000</td>\n",
       "      <td>10000.000000</td>\n",
       "      <td>10000.000000</td>\n",
       "      <td>10000.000000</td>\n",
       "      <td>1.000000e+04</td>\n",
       "      <td>10000.000000</td>\n",
       "      <td>10000.000000</td>\n",
       "      <td>10000.000000</td>\n",
       "      <td>10000.000000</td>\n",
       "      <td>5202.000000</td>\n",
       "      <td>10000.000000</td>\n",
       "      <td>10000.000000</td>\n",
       "      <td>10000.000000</td>\n",
       "    </tr>\n",
       "    <tr>\n",
       "      <th>mean</th>\n",
       "      <td>8383.40770</td>\n",
       "      <td>50.400800</td>\n",
       "      <td>1.890500</td>\n",
       "      <td>56.315775</td>\n",
       "      <td>37.199645</td>\n",
       "      <td>6.273300</td>\n",
       "      <td>8.526700</td>\n",
       "      <td>12.609400</td>\n",
       "      <td>3.990166e+03</td>\n",
       "      <td>0.118858</td>\n",
       "      <td>24.687000</td>\n",
       "      <td>5352.157400</td>\n",
       "      <td>8.039200</td>\n",
       "      <td>1142.904460</td>\n",
       "      <td>1.319500</td>\n",
       "      <td>4.231300</td>\n",
       "      <td>214138.857399</td>\n",
       "    </tr>\n",
       "    <tr>\n",
       "      <th>std</th>\n",
       "      <td>4859.01902</td>\n",
       "      <td>43.587592</td>\n",
       "      <td>0.839512</td>\n",
       "      <td>21.058732</td>\n",
       "      <td>86.241209</td>\n",
       "      <td>28.560917</td>\n",
       "      <td>5.241148</td>\n",
       "      <td>6.775974</td>\n",
       "      <td>2.005003e+05</td>\n",
       "      <td>0.119025</td>\n",
       "      <td>17.532614</td>\n",
       "      <td>4006.799803</td>\n",
       "      <td>23.831875</td>\n",
       "      <td>1021.517264</td>\n",
       "      <td>1.493601</td>\n",
       "      <td>4.806341</td>\n",
       "      <td>92872.293865</td>\n",
       "    </tr>\n",
       "    <tr>\n",
       "      <th>min</th>\n",
       "      <td>0.00000</td>\n",
       "      <td>0.000000</td>\n",
       "      <td>0.000000</td>\n",
       "      <td>1.136859</td>\n",
       "      <td>0.370619</td>\n",
       "      <td>0.000000</td>\n",
       "      <td>1.000000</td>\n",
       "      <td>0.000000</td>\n",
       "      <td>1.910000e+03</td>\n",
       "      <td>0.000000</td>\n",
       "      <td>0.000000</td>\n",
       "      <td>168.000000</td>\n",
       "      <td>0.000000</td>\n",
       "      <td>0.000000</td>\n",
       "      <td>0.000000</td>\n",
       "      <td>0.000000</td>\n",
       "      <td>59174.778028</td>\n",
       "    </tr>\n",
       "    <tr>\n",
       "      <th>25%</th>\n",
       "      <td>4169.50000</td>\n",
       "      <td>20.000000</td>\n",
       "      <td>1.000000</td>\n",
       "      <td>41.774881</td>\n",
       "      <td>22.769832</td>\n",
       "      <td>1.000000</td>\n",
       "      <td>4.000000</td>\n",
       "      <td>9.000000</td>\n",
       "      <td>1.974000e+03</td>\n",
       "      <td>0.017647</td>\n",
       "      <td>6.000000</td>\n",
       "      <td>1564.000000</td>\n",
       "      <td>0.000000</td>\n",
       "      <td>350.000000</td>\n",
       "      <td>0.000000</td>\n",
       "      <td>1.000000</td>\n",
       "      <td>153872.633942</td>\n",
       "    </tr>\n",
       "    <tr>\n",
       "      <th>50%</th>\n",
       "      <td>8394.50000</td>\n",
       "      <td>36.000000</td>\n",
       "      <td>2.000000</td>\n",
       "      <td>52.513310</td>\n",
       "      <td>32.781260</td>\n",
       "      <td>6.000000</td>\n",
       "      <td>7.000000</td>\n",
       "      <td>13.000000</td>\n",
       "      <td>1.977000e+03</td>\n",
       "      <td>0.075424</td>\n",
       "      <td>25.000000</td>\n",
       "      <td>5285.000000</td>\n",
       "      <td>2.000000</td>\n",
       "      <td>900.000000</td>\n",
       "      <td>1.000000</td>\n",
       "      <td>3.000000</td>\n",
       "      <td>192269.644879</td>\n",
       "    </tr>\n",
       "    <tr>\n",
       "      <th>75%</th>\n",
       "      <td>12592.50000</td>\n",
       "      <td>75.000000</td>\n",
       "      <td>2.000000</td>\n",
       "      <td>65.900625</td>\n",
       "      <td>45.128803</td>\n",
       "      <td>9.000000</td>\n",
       "      <td>12.000000</td>\n",
       "      <td>17.000000</td>\n",
       "      <td>2.001000e+03</td>\n",
       "      <td>0.195781</td>\n",
       "      <td>36.000000</td>\n",
       "      <td>7227.000000</td>\n",
       "      <td>5.000000</td>\n",
       "      <td>1548.000000</td>\n",
       "      <td>2.000000</td>\n",
       "      <td>6.000000</td>\n",
       "      <td>249135.462171</td>\n",
       "    </tr>\n",
       "    <tr>\n",
       "      <th>max</th>\n",
       "      <td>16798.00000</td>\n",
       "      <td>209.000000</td>\n",
       "      <td>19.000000</td>\n",
       "      <td>641.065193</td>\n",
       "      <td>7480.592129</td>\n",
       "      <td>2014.000000</td>\n",
       "      <td>42.000000</td>\n",
       "      <td>117.000000</td>\n",
       "      <td>2.005201e+07</td>\n",
       "      <td>0.521867</td>\n",
       "      <td>74.000000</td>\n",
       "      <td>19083.000000</td>\n",
       "      <td>141.000000</td>\n",
       "      <td>4849.000000</td>\n",
       "      <td>6.000000</td>\n",
       "      <td>23.000000</td>\n",
       "      <td>633233.466570</td>\n",
       "    </tr>\n",
       "  </tbody>\n",
       "</table>\n",
       "</div>"
      ],
      "text/plain": [
       "                Id    DistrictId         Rooms        Square   LifeSquare  \\\n",
       "count  10000.00000  10000.000000  10000.000000  10000.000000  7887.000000   \n",
       "mean    8383.40770     50.400800      1.890500     56.315775    37.199645   \n",
       "std     4859.01902     43.587592      0.839512     21.058732    86.241209   \n",
       "min        0.00000      0.000000      0.000000      1.136859     0.370619   \n",
       "25%     4169.50000     20.000000      1.000000     41.774881    22.769832   \n",
       "50%     8394.50000     36.000000      2.000000     52.513310    32.781260   \n",
       "75%    12592.50000     75.000000      2.000000     65.900625    45.128803   \n",
       "max    16798.00000    209.000000     19.000000    641.065193  7480.592129   \n",
       "\n",
       "       KitchenSquare         Floor    HouseFloor     HouseYear     Ecology_1  \\\n",
       "count   10000.000000  10000.000000  10000.000000  1.000000e+04  10000.000000   \n",
       "mean        6.273300      8.526700     12.609400  3.990166e+03      0.118858   \n",
       "std        28.560917      5.241148      6.775974  2.005003e+05      0.119025   \n",
       "min         0.000000      1.000000      0.000000  1.910000e+03      0.000000   \n",
       "25%         1.000000      4.000000      9.000000  1.974000e+03      0.017647   \n",
       "50%         6.000000      7.000000     13.000000  1.977000e+03      0.075424   \n",
       "75%         9.000000     12.000000     17.000000  2.001000e+03      0.195781   \n",
       "max      2014.000000     42.000000    117.000000  2.005201e+07      0.521867   \n",
       "\n",
       "           Social_1      Social_2      Social_3  Healthcare_1   Helthcare_2  \\\n",
       "count  10000.000000  10000.000000  10000.000000   5202.000000  10000.000000   \n",
       "mean      24.687000   5352.157400      8.039200   1142.904460      1.319500   \n",
       "std       17.532614   4006.799803     23.831875   1021.517264      1.493601   \n",
       "min        0.000000    168.000000      0.000000      0.000000      0.000000   \n",
       "25%        6.000000   1564.000000      0.000000    350.000000      0.000000   \n",
       "50%       25.000000   5285.000000      2.000000    900.000000      1.000000   \n",
       "75%       36.000000   7227.000000      5.000000   1548.000000      2.000000   \n",
       "max       74.000000  19083.000000    141.000000   4849.000000      6.000000   \n",
       "\n",
       "            Shops_1          Price  \n",
       "count  10000.000000   10000.000000  \n",
       "mean       4.231300  214138.857399  \n",
       "std        4.806341   92872.293865  \n",
       "min        0.000000   59174.778028  \n",
       "25%        1.000000  153872.633942  \n",
       "50%        3.000000  192269.644879  \n",
       "75%        6.000000  249135.462171  \n",
       "max       23.000000  633233.466570  "
      ]
     },
     "execution_count": 6,
     "metadata": {},
     "output_type": "execute_result"
    }
   ],
   "source": [
    "data.describe()"
   ]
  },
  {
   "cell_type": "code",
   "execution_count": 7,
   "metadata": {},
   "outputs": [
    {
     "name": "stdout",
     "output_type": "stream",
     "text": [
      "<class 'pandas.core.frame.DataFrame'>\n",
      "RangeIndex: 10000 entries, 0 to 9999\n",
      "Data columns (total 20 columns):\n",
      "Id               10000 non-null int64\n",
      "DistrictId       10000 non-null int64\n",
      "Rooms            10000 non-null float64\n",
      "Square           10000 non-null float64\n",
      "LifeSquare       7887 non-null float64\n",
      "KitchenSquare    10000 non-null float64\n",
      "Floor            10000 non-null int64\n",
      "HouseFloor       10000 non-null float64\n",
      "HouseYear        10000 non-null int64\n",
      "Ecology_1        10000 non-null float64\n",
      "Ecology_2        10000 non-null object\n",
      "Ecology_3        10000 non-null object\n",
      "Social_1         10000 non-null int64\n",
      "Social_2         10000 non-null int64\n",
      "Social_3         10000 non-null int64\n",
      "Healthcare_1     5202 non-null float64\n",
      "Helthcare_2      10000 non-null int64\n",
      "Shops_1          10000 non-null int64\n",
      "Shops_2          10000 non-null object\n",
      "Price            10000 non-null float64\n",
      "dtypes: float64(8), int64(9), object(3)\n",
      "memory usage: 1.5+ MB\n"
     ]
    }
   ],
   "source": [
    "data.info()"
   ]
  },
  {
   "cell_type": "code",
   "execution_count": 8,
   "metadata": {},
   "outputs": [
    {
     "data": {
      "image/png": "[encoded data removed]",
      "text/plain": [
       "<Figure size 1080x1080 with 21 Axes>"
      ]
     },
     "metadata": {
      "needs_background": "light"
     },
     "output_type": "display_data"
    }
   ],
   "source": [
    "cols = data.columns\n",
    "if len(cols)%3 == 0:\n",
    "    c = 0\n",
    "else:\n",
    "    c =1\n",
    "r = len(cols)//3 + c\n",
    "\n",
    "fig, ax = plt.subplots(nrows=r, ncols=3)\n",
    "ax = ax.flatten()\n",
    "for i, j in enumerate(cols):\n",
    "    ax[i].scatter(data[j], data['Price'])\n",
    "    ax[i].set_title(j)\n",
    "fig.set_size_inches(15, 15)\n",
    "plt.subplots_adjust(wspace=0.3, hspace=0.5)"
   ]
  },
  {
   "cell_type": "markdown",
   "metadata": {},
   "source": [
    "Убираем выбросы из Rooms и HouseYear. Остальные данные пока что оставим"
   ]
  },
  {
   "cell_type": "code",
   "execution_count": 9,
   "metadata": {
    "scrolled": true
   },
   "outputs": [],
   "source": [
    "data = data.loc[(data['Rooms'].between(1,6)) & (data['HouseYear'] < 3000)]\n",
    "data = data.drop('Healthcare_1', axis=1)"
   ]
  },
  {
   "cell_type": "markdown",
   "metadata": {},
   "source": [
    "Добавим новый признак - старый дом."
   ]
  },
  {
   "cell_type": "code",
   "execution_count": 10,
   "metadata": {},
   "outputs": [],
   "source": [
    "x_year = 1915\n",
    "data['OldHouse'] = (data['HouseYear'] <= x_year).astype(int)"
   ]
  },
  {
   "cell_type": "code",
   "execution_count": 11,
   "metadata": {},
   "outputs": [
    {
     "name": "stdout",
     "output_type": "stream",
     "text": [
      "<class 'pandas.core.frame.DataFrame'>\n",
      "Int64Index: 9987 entries, 0 to 9999\n",
      "Data columns (total 20 columns):\n",
      "Id               9987 non-null int64\n",
      "DistrictId       9987 non-null int64\n",
      "Rooms            9987 non-null float64\n",
      "Square           9987 non-null float64\n",
      "LifeSquare       7877 non-null float64\n",
      "KitchenSquare    9987 non-null float64\n",
      "Floor            9987 non-null int64\n",
      "HouseFloor       9987 non-null float64\n",
      "HouseYear        9987 non-null int64\n",
      "Ecology_1        9987 non-null float64\n",
      "Ecology_2        9987 non-null object\n",
      "Ecology_3        9987 non-null object\n",
      "Social_1         9987 non-null int64\n",
      "Social_2         9987 non-null int64\n",
      "Social_3         9987 non-null int64\n",
      "Helthcare_2      9987 non-null int64\n",
      "Shops_1          9987 non-null int64\n",
      "Shops_2          9987 non-null object\n",
      "Price            9987 non-null float64\n",
      "OldHouse         9987 non-null int32\n",
      "dtypes: float64(7), int32(1), int64(9), object(3)\n",
      "memory usage: 1.6+ MB\n"
     ]
    }
   ],
   "source": [
    "data.info()"
   ]
  },
  {
   "cell_type": "markdown",
   "metadata": {},
   "source": [
    "Почистить Square и LifeSquare"
   ]
  },
  {
   "cell_type": "code",
   "execution_count": 12,
   "metadata": {},
   "outputs": [
    {
     "data": {
      "text/html": [
       "<div>\n",
       "<style scoped>\n",
       "    .dataframe tbody tr th:only-of-type {\n",
       "        vertical-align: middle;\n",
       "    }\n",
       "\n",
       "    .dataframe tbody tr th {\n",
       "        vertical-align: top;\n",
       "    }\n",
       "\n",
       "    .dataframe thead th {\n",
       "        text-align: right;\n",
       "    }\n",
       "</style>\n",
       "<table border=\"1\" class=\"dataframe\">\n",
       "  <thead>\n",
       "    <tr style=\"text-align: right;\">\n",
       "      <th></th>\n",
       "      <th>DistrictId</th>\n",
       "      <th>Rooms</th>\n",
       "      <th>Ecology_1</th>\n",
       "      <th>Max_square</th>\n",
       "      <th>Max_lifesquare</th>\n",
       "    </tr>\n",
       "  </thead>\n",
       "  <tbody>\n",
       "    <tr>\n",
       "      <th>0</th>\n",
       "      <td>0</td>\n",
       "      <td>1.0</td>\n",
       "      <td>0.006076</td>\n",
       "      <td>46.565366</td>\n",
       "      <td>21.118280</td>\n",
       "    </tr>\n",
       "    <tr>\n",
       "      <th>1</th>\n",
       "      <td>0</td>\n",
       "      <td>1.0</td>\n",
       "      <td>0.319809</td>\n",
       "      <td>33.237857</td>\n",
       "      <td>21.761830</td>\n",
       "    </tr>\n",
       "    <tr>\n",
       "      <th>2</th>\n",
       "      <td>0</td>\n",
       "      <td>2.0</td>\n",
       "      <td>0.006076</td>\n",
       "      <td>68.546343</td>\n",
       "      <td>40.162134</td>\n",
       "    </tr>\n",
       "    <tr>\n",
       "      <th>3</th>\n",
       "      <td>0</td>\n",
       "      <td>2.0</td>\n",
       "      <td>0.319809</td>\n",
       "      <td>48.662368</td>\n",
       "      <td>31.477777</td>\n",
       "    </tr>\n",
       "    <tr>\n",
       "      <th>4</th>\n",
       "      <td>0</td>\n",
       "      <td>3.0</td>\n",
       "      <td>0.006076</td>\n",
       "      <td>89.636583</td>\n",
       "      <td>49.965887</td>\n",
       "    </tr>\n",
       "  </tbody>\n",
       "</table>\n",
       "</div>"
      ],
      "text/plain": [
       "   DistrictId  Rooms  Ecology_1  Max_square  Max_lifesquare\n",
       "0           0    1.0   0.006076   46.565366       21.118280\n",
       "1           0    1.0   0.319809   33.237857       21.761830\n",
       "2           0    2.0   0.006076   68.546343       40.162134\n",
       "3           0    2.0   0.319809   48.662368       31.477777\n",
       "4           0    3.0   0.006076   89.636583       49.965887"
      ]
     },
     "execution_count": 12,
     "metadata": {},
     "output_type": "execute_result"
    }
   ],
   "source": [
    "max_square = data.groupby(['DistrictId','Rooms', 'Ecology_1']).agg({'Square': ['median'], 'LifeSquare':['median']})\n",
    "max_square.columns = max_square.columns.swaplevel().droplevel()\n",
    "max_square = max_square.reset_index().rename(columns={'LifeSquare': 'Max_lifesquare', 'Square': 'Max_square'})\n",
    "max_square.head()"
   ]
  },
  {
   "cell_type": "code",
   "execution_count": 13,
   "metadata": {},
   "outputs": [
    {
     "data": {
      "text/plain": [
       "(1154, 5)"
      ]
     },
     "execution_count": 13,
     "metadata": {},
     "output_type": "execute_result"
    }
   ],
   "source": [
    "max_square.shape"
   ]
  },
  {
   "cell_type": "code",
   "execution_count": 14,
   "metadata": {},
   "outputs": [
    {
     "data": {
      "text/plain": [
       "(12, 5)"
      ]
     },
     "execution_count": 14,
     "metadata": {},
     "output_type": "execute_result"
    }
   ],
   "source": [
    "max_square.loc[max_square['Max_lifesquare'].isnull()].shape"
   ]
  },
  {
   "cell_type": "code",
   "execution_count": 15,
   "metadata": {},
   "outputs": [
    {
     "data": {
      "text/plain": [
       "(0, 5)"
      ]
     },
     "execution_count": 15,
     "metadata": {},
     "output_type": "execute_result"
    }
   ],
   "source": [
    "max_square['Max_lifesquare'] = max_square['Max_lifesquare'].fillna(max_square['Max_square'])\n",
    "max_square.loc[max_square['Max_lifesquare'].isnull()].shape"
   ]
  },
  {
   "cell_type": "code",
   "execution_count": 16,
   "metadata": {},
   "outputs": [
    {
     "data": {
      "text/plain": [
       "(12, 5)"
      ]
     },
     "execution_count": 16,
     "metadata": {},
     "output_type": "execute_result"
    }
   ],
   "source": [
    "max_square.loc[(max_square['Max_lifesquare'] > max_square['Max_square'])].shape"
   ]
  },
  {
   "cell_type": "code",
   "execution_count": 17,
   "metadata": {},
   "outputs": [
    {
     "data": {
      "text/plain": [
       "(0, 5)"
      ]
     },
     "execution_count": 17,
     "metadata": {},
     "output_type": "execute_result"
    }
   ],
   "source": [
    "max_square.loc[(max_square['Max_lifesquare'] > max_square['Max_square']), 'Max_square'] = max_square.loc[(max_square['Max_lifesquare'] > max_square['Max_square']), 'Max_lifesquare']\n",
    "max_square.loc[(max_square['Max_lifesquare'] > max_square['Max_square']), :].shape"
   ]
  },
  {
   "cell_type": "code",
   "execution_count": 18,
   "metadata": {},
   "outputs": [
    {
     "name": "stdout",
     "output_type": "stream",
     "text": [
      "<class 'pandas.core.frame.DataFrame'>\n",
      "RangeIndex: 1154 entries, 0 to 1153\n",
      "Data columns (total 5 columns):\n",
      "DistrictId        1154 non-null int64\n",
      "Rooms             1154 non-null float64\n",
      "Ecology_1         1154 non-null float64\n",
      "Max_square        1154 non-null float64\n",
      "Max_lifesquare    1154 non-null float64\n",
      "dtypes: float64(4), int64(1)\n",
      "memory usage: 45.2 KB\n"
     ]
    }
   ],
   "source": [
    "max_square.info()"
   ]
  },
  {
   "cell_type": "code",
   "execution_count": 19,
   "metadata": {},
   "outputs": [
    {
     "name": "stdout",
     "output_type": "stream",
     "text": [
      "<class 'pandas.core.frame.DataFrame'>\n",
      "Int64Index: 9987 entries, 0 to 9986\n",
      "Data columns (total 22 columns):\n",
      "Id                9987 non-null int64\n",
      "DistrictId        9987 non-null int64\n",
      "Rooms             9987 non-null float64\n",
      "Square            9987 non-null float64\n",
      "LifeSquare        7877 non-null float64\n",
      "KitchenSquare     9987 non-null float64\n",
      "Floor             9987 non-null int64\n",
      "HouseFloor        9987 non-null float64\n",
      "HouseYear         9987 non-null int64\n",
      "Ecology_1         9987 non-null float64\n",
      "Ecology_2         9987 non-null object\n",
      "Ecology_3         9987 non-null object\n",
      "Social_1          9987 non-null int64\n",
      "Social_2          9987 non-null int64\n",
      "Social_3          9987 non-null int64\n",
      "Helthcare_2       9987 non-null int64\n",
      "Shops_1           9987 non-null int64\n",
      "Shops_2           9987 non-null object\n",
      "Price             9987 non-null float64\n",
      "OldHouse          9987 non-null int32\n",
      "Max_square        9987 non-null float64\n",
      "Max_lifesquare    9987 non-null float64\n",
      "dtypes: float64(9), int32(1), int64(9), object(3)\n",
      "memory usage: 1.7+ MB\n"
     ]
    }
   ],
   "source": [
    "data = pd.merge(data, max_square, on=['DistrictId', 'Rooms', 'Ecology_1'], how='left')\n",
    "data.info()"
   ]
  },
  {
   "cell_type": "code",
   "execution_count": 20,
   "metadata": {},
   "outputs": [],
   "source": [
    "data['LifeSquare'] = data['LifeSquare'].fillna(data['Max_lifesquare'])"
   ]
  },
  {
   "cell_type": "code",
   "execution_count": 21,
   "metadata": {},
   "outputs": [
    {
     "name": "stdout",
     "output_type": "stream",
     "text": [
      "<class 'pandas.core.frame.DataFrame'>\n",
      "Int64Index: 9987 entries, 0 to 9986\n",
      "Data columns (total 22 columns):\n",
      "Id                9987 non-null int64\n",
      "DistrictId        9987 non-null int64\n",
      "Rooms             9987 non-null float64\n",
      "Square            9987 non-null float64\n",
      "LifeSquare        9987 non-null float64\n",
      "KitchenSquare     9987 non-null float64\n",
      "Floor             9987 non-null int64\n",
      "HouseFloor        9987 non-null float64\n",
      "HouseYear         9987 non-null int64\n",
      "Ecology_1         9987 non-null float64\n",
      "Ecology_2         9987 non-null object\n",
      "Ecology_3         9987 non-null object\n",
      "Social_1          9987 non-null int64\n",
      "Social_2          9987 non-null int64\n",
      "Social_3          9987 non-null int64\n",
      "Helthcare_2       9987 non-null int64\n",
      "Shops_1           9987 non-null int64\n",
      "Shops_2           9987 non-null object\n",
      "Price             9987 non-null float64\n",
      "OldHouse          9987 non-null int32\n",
      "Max_square        9987 non-null float64\n",
      "Max_lifesquare    9987 non-null float64\n",
      "dtypes: float64(9), int32(1), int64(9), object(3)\n",
      "memory usage: 1.7+ MB\n"
     ]
    }
   ],
   "source": [
    "data.info()"
   ]
  },
  {
   "cell_type": "code",
   "execution_count": 22,
   "metadata": {
    "scrolled": true
   },
   "outputs": [
    {
     "data": {
      "text/plain": [
       "(803, 22)"
      ]
     },
     "execution_count": 22,
     "metadata": {},
     "output_type": "execute_result"
    }
   ],
   "source": [
    "data.loc[data['Square'] < data['LifeSquare'], :].shape"
   ]
  },
  {
   "cell_type": "code",
   "execution_count": 23,
   "metadata": {},
   "outputs": [],
   "source": [
    "data.loc[(data['Square'] < data['LifeSquare']), 'Square'] = data.loc[(data['Square'] < data['LifeSquare']), 'Max_square']"
   ]
  },
  {
   "cell_type": "code",
   "execution_count": 24,
   "metadata": {
    "scrolled": true
   },
   "outputs": [
    {
     "data": {
      "text/plain": [
       "(266, 22)"
      ]
     },
     "execution_count": 24,
     "metadata": {},
     "output_type": "execute_result"
    }
   ],
   "source": [
    "data.loc[(data['Square'] < data['LifeSquare']), :].shape"
   ]
  },
  {
   "cell_type": "code",
   "execution_count": 25,
   "metadata": {},
   "outputs": [],
   "source": [
    "data.loc[(data['Square'] < data['LifeSquare']), 'Square'] = data.loc[(data['Square'] < data['LifeSquare']), 'LifeSquare']"
   ]
  },
  {
   "cell_type": "code",
   "execution_count": 26,
   "metadata": {},
   "outputs": [
    {
     "data": {
      "text/plain": [
       "(0, 22)"
      ]
     },
     "execution_count": 26,
     "metadata": {},
     "output_type": "execute_result"
    }
   ],
   "source": [
    "data.loc[(data['Square'] < data['LifeSquare']), :].shape"
   ]
  },
  {
   "cell_type": "code",
   "execution_count": 27,
   "metadata": {},
   "outputs": [
    {
     "name": "stdout",
     "output_type": "stream",
     "text": [
      "<class 'pandas.core.frame.DataFrame'>\n",
      "Int64Index: 9987 entries, 0 to 9986\n",
      "Data columns (total 22 columns):\n",
      "Id                9987 non-null int64\n",
      "DistrictId        9987 non-null int64\n",
      "Rooms             9987 non-null float64\n",
      "Square            9987 non-null float64\n",
      "LifeSquare        9987 non-null float64\n",
      "KitchenSquare     9987 non-null float64\n",
      "Floor             9987 non-null int64\n",
      "HouseFloor        9987 non-null float64\n",
      "HouseYear         9987 non-null int64\n",
      "Ecology_1         9987 non-null float64\n",
      "Ecology_2         9987 non-null object\n",
      "Ecology_3         9987 non-null object\n",
      "Social_1          9987 non-null int64\n",
      "Social_2          9987 non-null int64\n",
      "Social_3          9987 non-null int64\n",
      "Helthcare_2       9987 non-null int64\n",
      "Shops_1           9987 non-null int64\n",
      "Shops_2           9987 non-null object\n",
      "Price             9987 non-null float64\n",
      "OldHouse          9987 non-null int32\n",
      "Max_square        9987 non-null float64\n",
      "Max_lifesquare    9987 non-null float64\n",
      "dtypes: float64(9), int32(1), int64(9), object(3)\n",
      "memory usage: 1.7+ MB\n"
     ]
    }
   ],
   "source": [
    "data.info()"
   ]
  },
  {
   "cell_type": "markdown",
   "metadata": {},
   "source": [
    "Почистим HouseFloor"
   ]
  },
  {
   "cell_type": "code",
   "execution_count": 28,
   "metadata": {},
   "outputs": [
    {
     "data": {
      "text/html": [
       "<div>\n",
       "<style scoped>\n",
       "    .dataframe tbody tr th:only-of-type {\n",
       "        vertical-align: middle;\n",
       "    }\n",
       "\n",
       "    .dataframe tbody tr th {\n",
       "        vertical-align: top;\n",
       "    }\n",
       "\n",
       "    .dataframe thead th {\n",
       "        text-align: right;\n",
       "    }\n",
       "</style>\n",
       "<table border=\"1\" class=\"dataframe\">\n",
       "  <thead>\n",
       "    <tr style=\"text-align: right;\">\n",
       "      <th></th>\n",
       "      <th>DistrictId</th>\n",
       "      <th>HouseYear</th>\n",
       "      <th>Ecology_1</th>\n",
       "      <th>Max_housefloor</th>\n",
       "      <th>Max_floor</th>\n",
       "    </tr>\n",
       "  </thead>\n",
       "  <tbody>\n",
       "    <tr>\n",
       "      <th>0</th>\n",
       "      <td>0</td>\n",
       "      <td>1959</td>\n",
       "      <td>0.319809</td>\n",
       "      <td>5.0</td>\n",
       "      <td>4</td>\n",
       "    </tr>\n",
       "    <tr>\n",
       "      <th>1</th>\n",
       "      <td>0</td>\n",
       "      <td>1960</td>\n",
       "      <td>0.319809</td>\n",
       "      <td>8.0</td>\n",
       "      <td>4</td>\n",
       "    </tr>\n",
       "    <tr>\n",
       "      <th>2</th>\n",
       "      <td>0</td>\n",
       "      <td>1961</td>\n",
       "      <td>0.319809</td>\n",
       "      <td>5.0</td>\n",
       "      <td>7</td>\n",
       "    </tr>\n",
       "    <tr>\n",
       "      <th>3</th>\n",
       "      <td>0</td>\n",
       "      <td>1962</td>\n",
       "      <td>0.319809</td>\n",
       "      <td>8.0</td>\n",
       "      <td>6</td>\n",
       "    </tr>\n",
       "    <tr>\n",
       "      <th>4</th>\n",
       "      <td>0</td>\n",
       "      <td>1963</td>\n",
       "      <td>0.319809</td>\n",
       "      <td>5.0</td>\n",
       "      <td>6</td>\n",
       "    </tr>\n",
       "  </tbody>\n",
       "</table>\n",
       "</div>"
      ],
      "text/plain": [
       "   DistrictId  HouseYear  Ecology_1  Max_housefloor  Max_floor\n",
       "0           0       1959   0.319809             5.0          4\n",
       "1           0       1960   0.319809             8.0          4\n",
       "2           0       1961   0.319809             5.0          7\n",
       "3           0       1962   0.319809             8.0          6\n",
       "4           0       1963   0.319809             5.0          6"
      ]
     },
     "execution_count": 28,
     "metadata": {},
     "output_type": "execute_result"
    }
   ],
   "source": [
    "max_floor = data.groupby(['DistrictId','HouseYear','Ecology_1'])[['HouseFloor', 'Floor']].max().reset_index().rename(columns={'HouseFloor': 'Max_housefloor', 'Floor': 'Max_floor'})\n",
    "max_floor.head()"
   ]
  },
  {
   "cell_type": "code",
   "execution_count": 29,
   "metadata": {},
   "outputs": [
    {
     "data": {
      "text/plain": [
       "(589, 5)"
      ]
     },
     "execution_count": 29,
     "metadata": {},
     "output_type": "execute_result"
    }
   ],
   "source": [
    "max_floor.loc[max_floor['Max_housefloor'] < max_floor['Max_floor']].shape"
   ]
  },
  {
   "cell_type": "code",
   "execution_count": 30,
   "metadata": {},
   "outputs": [],
   "source": [
    "max_floor.loc[max_floor['Max_housefloor'] < max_floor['Max_floor'], 'Max_housefloor'] = max_floor.loc[max_floor['Max_housefloor'] < max_floor['Max_floor'], 'Max_floor']"
   ]
  },
  {
   "cell_type": "code",
   "execution_count": 31,
   "metadata": {},
   "outputs": [
    {
     "data": {
      "text/plain": [
       "(0, 5)"
      ]
     },
     "execution_count": 31,
     "metadata": {},
     "output_type": "execute_result"
    }
   ],
   "source": [
    "max_floor.loc[max_floor['Max_housefloor'] < max_floor['Max_floor']].shape"
   ]
  },
  {
   "cell_type": "code",
   "execution_count": 32,
   "metadata": {},
   "outputs": [],
   "source": [
    "max_floor = max_floor.drop(['Max_floor'], axis=1)"
   ]
  },
  {
   "cell_type": "code",
   "execution_count": 33,
   "metadata": {},
   "outputs": [
    {
     "name": "stdout",
     "output_type": "stream",
     "text": [
      "<class 'pandas.core.frame.DataFrame'>\n",
      "Int64Index: 9987 entries, 0 to 9986\n",
      "Data columns (total 23 columns):\n",
      "Id                9987 non-null int64\n",
      "DistrictId        9987 non-null int64\n",
      "Rooms             9987 non-null float64\n",
      "Square            9987 non-null float64\n",
      "LifeSquare        9987 non-null float64\n",
      "KitchenSquare     9987 non-null float64\n",
      "Floor             9987 non-null int64\n",
      "HouseFloor        9987 non-null float64\n",
      "HouseYear         9987 non-null int64\n",
      "Ecology_1         9987 non-null float64\n",
      "Ecology_2         9987 non-null object\n",
      "Ecology_3         9987 non-null object\n",
      "Social_1          9987 non-null int64\n",
      "Social_2          9987 non-null int64\n",
      "Social_3          9987 non-null int64\n",
      "Helthcare_2       9987 non-null int64\n",
      "Shops_1           9987 non-null int64\n",
      "Shops_2           9987 non-null object\n",
      "Price             9987 non-null float64\n",
      "OldHouse          9987 non-null int32\n",
      "Max_square        9987 non-null float64\n",
      "Max_lifesquare    9987 non-null float64\n",
      "Max_housefloor    9987 non-null float64\n",
      "dtypes: float64(10), int32(1), int64(9), object(3)\n",
      "memory usage: 1.8+ MB\n"
     ]
    }
   ],
   "source": [
    "data = pd.merge(data, max_floor, on=['DistrictId', 'HouseYear', 'Ecology_1'], how='left')\n",
    "data.info()"
   ]
  },
  {
   "cell_type": "code",
   "execution_count": 34,
   "metadata": {
    "scrolled": true
   },
   "outputs": [
    {
     "data": {
      "text/plain": [
       "(1819, 23)"
      ]
     },
     "execution_count": 34,
     "metadata": {},
     "output_type": "execute_result"
    }
   ],
   "source": [
    "data.loc[(data['HouseFloor'] < data['Floor']), :].shape"
   ]
  },
  {
   "cell_type": "code",
   "execution_count": 35,
   "metadata": {},
   "outputs": [],
   "source": [
    "data.loc[(data['HouseFloor'] < data['Floor']), 'HouseFloor'] = data.loc[(data['HouseFloor'] < data['Floor']), 'Max_housefloor']"
   ]
  },
  {
   "cell_type": "code",
   "execution_count": 36,
   "metadata": {},
   "outputs": [
    {
     "data": {
      "text/plain": [
       "(0, 23)"
      ]
     },
     "execution_count": 36,
     "metadata": {},
     "output_type": "execute_result"
    }
   ],
   "source": [
    "data.loc[(data['HouseFloor'] < data['Floor']), :].shape"
   ]
  },
  {
   "cell_type": "code",
   "execution_count": null,
   "metadata": {},
   "outputs": [],
   "source": []
  },
  {
   "cell_type": "code",
   "execution_count": 37,
   "metadata": {},
   "outputs": [
    {
     "data": {
      "text/html": [
       "<div>\n",
       "<style scoped>\n",
       "    .dataframe tbody tr th:only-of-type {\n",
       "        vertical-align: middle;\n",
       "    }\n",
       "\n",
       "    .dataframe tbody tr th {\n",
       "        vertical-align: top;\n",
       "    }\n",
       "\n",
       "    .dataframe thead th {\n",
       "        text-align: right;\n",
       "    }\n",
       "</style>\n",
       "<table border=\"1\" class=\"dataframe\">\n",
       "  <thead>\n",
       "    <tr style=\"text-align: right;\">\n",
       "      <th></th>\n",
       "      <th>Id</th>\n",
       "      <th>DistrictId</th>\n",
       "      <th>Rooms</th>\n",
       "      <th>Square</th>\n",
       "      <th>LifeSquare</th>\n",
       "      <th>KitchenSquare</th>\n",
       "      <th>Floor</th>\n",
       "      <th>HouseFloor</th>\n",
       "      <th>HouseYear</th>\n",
       "      <th>Ecology_1</th>\n",
       "      <th>Social_1</th>\n",
       "      <th>Social_2</th>\n",
       "      <th>Social_3</th>\n",
       "      <th>Helthcare_2</th>\n",
       "      <th>Shops_1</th>\n",
       "      <th>Price</th>\n",
       "      <th>OldHouse</th>\n",
       "      <th>Max_square</th>\n",
       "      <th>Max_lifesquare</th>\n",
       "      <th>Max_housefloor</th>\n",
       "    </tr>\n",
       "  </thead>\n",
       "  <tbody>\n",
       "    <tr>\n",
       "      <th>count</th>\n",
       "      <td>9987.000000</td>\n",
       "      <td>9987.000000</td>\n",
       "      <td>9987.000000</td>\n",
       "      <td>9987.000000</td>\n",
       "      <td>9987.000000</td>\n",
       "      <td>9987.000000</td>\n",
       "      <td>9987.000000</td>\n",
       "      <td>9987.000000</td>\n",
       "      <td>9987.000000</td>\n",
       "      <td>9987.000000</td>\n",
       "      <td>9987.000000</td>\n",
       "      <td>9987.000000</td>\n",
       "      <td>9987.000000</td>\n",
       "      <td>9987.000000</td>\n",
       "      <td>9987.000000</td>\n",
       "      <td>9987.000000</td>\n",
       "      <td>9987.000000</td>\n",
       "      <td>9987.000000</td>\n",
       "      <td>9987.000000</td>\n",
       "      <td>9987.000000</td>\n",
       "    </tr>\n",
       "    <tr>\n",
       "      <th>mean</th>\n",
       "      <td>8384.644938</td>\n",
       "      <td>50.408331</td>\n",
       "      <td>1.888755</td>\n",
       "      <td>57.574021</td>\n",
       "      <td>39.509367</td>\n",
       "      <td>6.276459</td>\n",
       "      <td>8.526885</td>\n",
       "      <td>15.291980</td>\n",
       "      <td>1984.854811</td>\n",
       "      <td>0.118819</td>\n",
       "      <td>24.691799</td>\n",
       "      <td>5352.982878</td>\n",
       "      <td>8.046360</td>\n",
       "      <td>1.319315</td>\n",
       "      <td>4.232202</td>\n",
       "      <td>214150.396971</td>\n",
       "      <td>0.000401</td>\n",
       "      <td>55.601704</td>\n",
       "      <td>38.661337</td>\n",
       "      <td>18.964454</td>\n",
       "    </tr>\n",
       "    <tr>\n",
       "      <th>std</th>\n",
       "      <td>4859.505979</td>\n",
       "      <td>43.588866</td>\n",
       "      <td>0.812567</td>\n",
       "      <td>77.327181</td>\n",
       "      <td>77.186483</td>\n",
       "      <td>28.578940</td>\n",
       "      <td>5.239464</td>\n",
       "      <td>9.582516</td>\n",
       "      <td>18.411032</td>\n",
       "      <td>0.119057</td>\n",
       "      <td>17.529139</td>\n",
       "      <td>4005.597649</td>\n",
       "      <td>23.845952</td>\n",
       "      <td>1.493048</td>\n",
       "      <td>4.806662</td>\n",
       "      <td>92896.001789</td>\n",
       "      <td>0.020010</td>\n",
       "      <td>17.121741</td>\n",
       "      <td>16.316814</td>\n",
       "      <td>14.455171</td>\n",
       "    </tr>\n",
       "    <tr>\n",
       "      <th>min</th>\n",
       "      <td>0.000000</td>\n",
       "      <td>0.000000</td>\n",
       "      <td>1.000000</td>\n",
       "      <td>4.633498</td>\n",
       "      <td>0.370619</td>\n",
       "      <td>0.000000</td>\n",
       "      <td>1.000000</td>\n",
       "      <td>1.000000</td>\n",
       "      <td>1910.000000</td>\n",
       "      <td>0.000000</td>\n",
       "      <td>0.000000</td>\n",
       "      <td>168.000000</td>\n",
       "      <td>0.000000</td>\n",
       "      <td>0.000000</td>\n",
       "      <td>0.000000</td>\n",
       "      <td>59174.778028</td>\n",
       "      <td>0.000000</td>\n",
       "      <td>20.036232</td>\n",
       "      <td>4.736100</td>\n",
       "      <td>2.000000</td>\n",
       "    </tr>\n",
       "    <tr>\n",
       "      <th>25%</th>\n",
       "      <td>4170.500000</td>\n",
       "      <td>20.000000</td>\n",
       "      <td>1.000000</td>\n",
       "      <td>42.163974</td>\n",
       "      <td>23.925158</td>\n",
       "      <td>1.000000</td>\n",
       "      <td>4.000000</td>\n",
       "      <td>9.000000</td>\n",
       "      <td>1974.000000</td>\n",
       "      <td>0.017647</td>\n",
       "      <td>6.000000</td>\n",
       "      <td>1564.000000</td>\n",
       "      <td>0.000000</td>\n",
       "      <td>0.000000</td>\n",
       "      <td>1.000000</td>\n",
       "      <td>153860.591184</td>\n",
       "      <td>0.000000</td>\n",
       "      <td>42.163974</td>\n",
       "      <td>28.062699</td>\n",
       "      <td>12.000000</td>\n",
       "    </tr>\n",
       "    <tr>\n",
       "      <th>50%</th>\n",
       "      <td>8395.000000</td>\n",
       "      <td>36.000000</td>\n",
       "      <td>2.000000</td>\n",
       "      <td>52.915094</td>\n",
       "      <td>34.986673</td>\n",
       "      <td>6.000000</td>\n",
       "      <td>7.000000</td>\n",
       "      <td>16.000000</td>\n",
       "      <td>1977.000000</td>\n",
       "      <td>0.075424</td>\n",
       "      <td>25.000000</td>\n",
       "      <td>5285.000000</td>\n",
       "      <td>2.000000</td>\n",
       "      <td>1.000000</td>\n",
       "      <td>3.000000</td>\n",
       "      <td>192248.072522</td>\n",
       "      <td>0.000000</td>\n",
       "      <td>50.885245</td>\n",
       "      <td>34.373448</td>\n",
       "      <td>17.000000</td>\n",
       "    </tr>\n",
       "    <tr>\n",
       "      <th>75%</th>\n",
       "      <td>12594.500000</td>\n",
       "      <td>75.000000</td>\n",
       "      <td>2.000000</td>\n",
       "      <td>66.253630</td>\n",
       "      <td>47.097708</td>\n",
       "      <td>9.000000</td>\n",
       "      <td>12.000000</td>\n",
       "      <td>17.000000</td>\n",
       "      <td>2001.000000</td>\n",
       "      <td>0.195781</td>\n",
       "      <td>36.000000</td>\n",
       "      <td>7227.000000</td>\n",
       "      <td>5.000000</td>\n",
       "      <td>2.000000</td>\n",
       "      <td>6.000000</td>\n",
       "      <td>249118.488567</td>\n",
       "      <td>0.000000</td>\n",
       "      <td>64.652814</td>\n",
       "      <td>46.576718</td>\n",
       "      <td>25.000000</td>\n",
       "    </tr>\n",
       "    <tr>\n",
       "      <th>max</th>\n",
       "      <td>16798.000000</td>\n",
       "      <td>209.000000</td>\n",
       "      <td>6.000000</td>\n",
       "      <td>7480.592129</td>\n",
       "      <td>7480.592129</td>\n",
       "      <td>2014.000000</td>\n",
       "      <td>42.000000</td>\n",
       "      <td>117.000000</td>\n",
       "      <td>2020.000000</td>\n",
       "      <td>0.521867</td>\n",
       "      <td>74.000000</td>\n",
       "      <td>19083.000000</td>\n",
       "      <td>141.000000</td>\n",
       "      <td>6.000000</td>\n",
       "      <td>23.000000</td>\n",
       "      <td>633233.466570</td>\n",
       "      <td>1.000000</td>\n",
       "      <td>226.291341</td>\n",
       "      <td>225.347649</td>\n",
       "      <td>117.000000</td>\n",
       "    </tr>\n",
       "  </tbody>\n",
       "</table>\n",
       "</div>"
      ],
      "text/plain": [
       "                 Id   DistrictId        Rooms       Square   LifeSquare  \\\n",
       "count   9987.000000  9987.000000  9987.000000  9987.000000  9987.000000   \n",
       "mean    8384.644938    50.408331     1.888755    57.574021    39.509367   \n",
       "std     4859.505979    43.588866     0.812567    77.327181    77.186483   \n",
       "min        0.000000     0.000000     1.000000     4.633498     0.370619   \n",
       "25%     4170.500000    20.000000     1.000000    42.163974    23.925158   \n",
       "50%     8395.000000    36.000000     2.000000    52.915094    34.986673   \n",
       "75%    12594.500000    75.000000     2.000000    66.253630    47.097708   \n",
       "max    16798.000000   209.000000     6.000000  7480.592129  7480.592129   \n",
       "\n",
       "       KitchenSquare        Floor   HouseFloor    HouseYear    Ecology_1  \\\n",
       "count    9987.000000  9987.000000  9987.000000  9987.000000  9987.000000   \n",
       "mean        6.276459     8.526885    15.291980  1984.854811     0.118819   \n",
       "std        28.578940     5.239464     9.582516    18.411032     0.119057   \n",
       "min         0.000000     1.000000     1.000000  1910.000000     0.000000   \n",
       "25%         1.000000     4.000000     9.000000  1974.000000     0.017647   \n",
       "50%         6.000000     7.000000    16.000000  1977.000000     0.075424   \n",
       "75%         9.000000    12.000000    17.000000  2001.000000     0.195781   \n",
       "max      2014.000000    42.000000   117.000000  2020.000000     0.521867   \n",
       "\n",
       "          Social_1      Social_2     Social_3  Helthcare_2      Shops_1  \\\n",
       "count  9987.000000   9987.000000  9987.000000  9987.000000  9987.000000   \n",
       "mean     24.691799   5352.982878     8.046360     1.319315     4.232202   \n",
       "std      17.529139   4005.597649    23.845952     1.493048     4.806662   \n",
       "min       0.000000    168.000000     0.000000     0.000000     0.000000   \n",
       "25%       6.000000   1564.000000     0.000000     0.000000     1.000000   \n",
       "50%      25.000000   5285.000000     2.000000     1.000000     3.000000   \n",
       "75%      36.000000   7227.000000     5.000000     2.000000     6.000000   \n",
       "max      74.000000  19083.000000   141.000000     6.000000    23.000000   \n",
       "\n",
       "               Price     OldHouse   Max_square  Max_lifesquare  Max_housefloor  \n",
       "count    9987.000000  9987.000000  9987.000000     9987.000000     9987.000000  \n",
       "mean   214150.396971     0.000401    55.601704       38.661337       18.964454  \n",
       "std     92896.001789     0.020010    17.121741       16.316814       14.455171  \n",
       "min     59174.778028     0.000000    20.036232        4.736100        2.000000  \n",
       "25%    153860.591184     0.000000    42.163974       28.062699       12.000000  \n",
       "50%    192248.072522     0.000000    50.885245       34.373448       17.000000  \n",
       "75%    249118.488567     0.000000    64.652814       46.576718       25.000000  \n",
       "max    633233.466570     1.000000   226.291341      225.347649      117.000000  "
      ]
     },
     "execution_count": 37,
     "metadata": {},
     "output_type": "execute_result"
    }
   ],
   "source": [
    "data.describe()"
   ]
  },
  {
   "cell_type": "code",
   "execution_count": 38,
   "metadata": {},
   "outputs": [
    {
     "data": {
      "text/html": [
       "<div>\n",
       "<style scoped>\n",
       "    .dataframe tbody tr th:only-of-type {\n",
       "        vertical-align: middle;\n",
       "    }\n",
       "\n",
       "    .dataframe tbody tr th {\n",
       "        vertical-align: top;\n",
       "    }\n",
       "\n",
       "    .dataframe thead th {\n",
       "        text-align: right;\n",
       "    }\n",
       "</style>\n",
       "<table border=\"1\" class=\"dataframe\">\n",
       "  <thead>\n",
       "    <tr style=\"text-align: right;\">\n",
       "      <th></th>\n",
       "      <th>Id</th>\n",
       "      <th>DistrictId</th>\n",
       "      <th>Rooms</th>\n",
       "      <th>Square</th>\n",
       "      <th>LifeSquare</th>\n",
       "      <th>KitchenSquare</th>\n",
       "      <th>Floor</th>\n",
       "      <th>HouseFloor</th>\n",
       "      <th>HouseYear</th>\n",
       "      <th>Ecology_1</th>\n",
       "      <th>Social_1</th>\n",
       "      <th>Social_2</th>\n",
       "      <th>Social_3</th>\n",
       "      <th>Helthcare_2</th>\n",
       "      <th>Shops_1</th>\n",
       "      <th>Price</th>\n",
       "      <th>OldHouse</th>\n",
       "      <th>Max_square</th>\n",
       "      <th>Max_lifesquare</th>\n",
       "      <th>Max_housefloor</th>\n",
       "    </tr>\n",
       "  </thead>\n",
       "  <tbody>\n",
       "    <tr>\n",
       "      <th>count</th>\n",
       "      <td>9982.000000</td>\n",
       "      <td>9982.000000</td>\n",
       "      <td>9982.000000</td>\n",
       "      <td>9982.000000</td>\n",
       "      <td>9982.000000</td>\n",
       "      <td>9982.000000</td>\n",
       "      <td>9982.000000</td>\n",
       "      <td>9982.000000</td>\n",
       "      <td>9982.000000</td>\n",
       "      <td>9982.000000</td>\n",
       "      <td>9982.000000</td>\n",
       "      <td>9982.000000</td>\n",
       "      <td>9982.000000</td>\n",
       "      <td>9982.000000</td>\n",
       "      <td>9982.000000</td>\n",
       "      <td>9982.000000</td>\n",
       "      <td>9982.000000</td>\n",
       "      <td>9982.000000</td>\n",
       "      <td>9982.000000</td>\n",
       "      <td>9982.000000</td>\n",
       "    </tr>\n",
       "    <tr>\n",
       "      <th>mean</th>\n",
       "      <td>8383.082949</td>\n",
       "      <td>50.412643</td>\n",
       "      <td>1.888800</td>\n",
       "      <td>56.720698</td>\n",
       "      <td>38.706068</td>\n",
       "      <td>5.879283</td>\n",
       "      <td>8.525546</td>\n",
       "      <td>15.291525</td>\n",
       "      <td>1984.846924</td>\n",
       "      <td>0.118853</td>\n",
       "      <td>24.696053</td>\n",
       "      <td>5353.817972</td>\n",
       "      <td>8.036065</td>\n",
       "      <td>1.318874</td>\n",
       "      <td>4.231016</td>\n",
       "      <td>214182.281416</td>\n",
       "      <td>0.000401</td>\n",
       "      <td>55.599483</td>\n",
       "      <td>38.661125</td>\n",
       "      <td>18.965538</td>\n",
       "    </tr>\n",
       "    <tr>\n",
       "      <th>std</th>\n",
       "      <td>4858.395017</td>\n",
       "      <td>43.595475</td>\n",
       "      <td>0.812595</td>\n",
       "      <td>19.924175</td>\n",
       "      <td>19.406746</td>\n",
       "      <td>5.175175</td>\n",
       "      <td>5.238572</td>\n",
       "      <td>9.584179</td>\n",
       "      <td>18.407183</td>\n",
       "      <td>0.119069</td>\n",
       "      <td>17.530484</td>\n",
       "      <td>4006.008636</td>\n",
       "      <td>23.814286</td>\n",
       "      <td>1.492459</td>\n",
       "      <td>4.803787</td>\n",
       "      <td>92902.977839</td>\n",
       "      <td>0.020015</td>\n",
       "      <td>17.123195</td>\n",
       "      <td>16.318148</td>\n",
       "      <td>14.458201</td>\n",
       "    </tr>\n",
       "    <tr>\n",
       "      <th>min</th>\n",
       "      <td>0.000000</td>\n",
       "      <td>0.000000</td>\n",
       "      <td>1.000000</td>\n",
       "      <td>4.633498</td>\n",
       "      <td>0.370619</td>\n",
       "      <td>0.000000</td>\n",
       "      <td>1.000000</td>\n",
       "      <td>1.000000</td>\n",
       "      <td>1910.000000</td>\n",
       "      <td>0.000000</td>\n",
       "      <td>0.000000</td>\n",
       "      <td>168.000000</td>\n",
       "      <td>0.000000</td>\n",
       "      <td>0.000000</td>\n",
       "      <td>0.000000</td>\n",
       "      <td>59174.778028</td>\n",
       "      <td>0.000000</td>\n",
       "      <td>20.036232</td>\n",
       "      <td>4.736100</td>\n",
       "      <td>2.000000</td>\n",
       "    </tr>\n",
       "    <tr>\n",
       "      <th>25%</th>\n",
       "      <td>4170.250000</td>\n",
       "      <td>20.000000</td>\n",
       "      <td>1.000000</td>\n",
       "      <td>42.163974</td>\n",
       "      <td>23.924247</td>\n",
       "      <td>1.000000</td>\n",
       "      <td>4.000000</td>\n",
       "      <td>9.000000</td>\n",
       "      <td>1974.000000</td>\n",
       "      <td>0.017647</td>\n",
       "      <td>6.000000</td>\n",
       "      <td>1564.000000</td>\n",
       "      <td>0.000000</td>\n",
       "      <td>0.000000</td>\n",
       "      <td>1.000000</td>\n",
       "      <td>153898.495433</td>\n",
       "      <td>0.000000</td>\n",
       "      <td>42.163974</td>\n",
       "      <td>28.062699</td>\n",
       "      <td>12.000000</td>\n",
       "    </tr>\n",
       "    <tr>\n",
       "      <th>50%</th>\n",
       "      <td>8393.500000</td>\n",
       "      <td>36.000000</td>\n",
       "      <td>2.000000</td>\n",
       "      <td>52.915063</td>\n",
       "      <td>34.986310</td>\n",
       "      <td>6.000000</td>\n",
       "      <td>7.000000</td>\n",
       "      <td>16.000000</td>\n",
       "      <td>1977.000000</td>\n",
       "      <td>0.075424</td>\n",
       "      <td>25.000000</td>\n",
       "      <td>5285.000000</td>\n",
       "      <td>2.000000</td>\n",
       "      <td>1.000000</td>\n",
       "      <td>3.000000</td>\n",
       "      <td>192269.644879</td>\n",
       "      <td>0.000000</td>\n",
       "      <td>50.885245</td>\n",
       "      <td>34.373448</td>\n",
       "      <td>17.000000</td>\n",
       "    </tr>\n",
       "    <tr>\n",
       "      <th>75%</th>\n",
       "      <td>12591.750000</td>\n",
       "      <td>75.000000</td>\n",
       "      <td>2.000000</td>\n",
       "      <td>66.243288</td>\n",
       "      <td>47.095670</td>\n",
       "      <td>9.000000</td>\n",
       "      <td>12.000000</td>\n",
       "      <td>17.000000</td>\n",
       "      <td>2001.000000</td>\n",
       "      <td>0.195781</td>\n",
       "      <td>36.000000</td>\n",
       "      <td>7227.000000</td>\n",
       "      <td>5.000000</td>\n",
       "      <td>2.000000</td>\n",
       "      <td>6.000000</td>\n",
       "      <td>249161.507295</td>\n",
       "      <td>0.000000</td>\n",
       "      <td>64.654475</td>\n",
       "      <td>46.576718</td>\n",
       "      <td>25.000000</td>\n",
       "    </tr>\n",
       "    <tr>\n",
       "      <th>max</th>\n",
       "      <td>16798.000000</td>\n",
       "      <td>209.000000</td>\n",
       "      <td>6.000000</td>\n",
       "      <td>461.463614</td>\n",
       "      <td>461.463614</td>\n",
       "      <td>123.000000</td>\n",
       "      <td>42.000000</td>\n",
       "      <td>117.000000</td>\n",
       "      <td>2020.000000</td>\n",
       "      <td>0.521867</td>\n",
       "      <td>74.000000</td>\n",
       "      <td>19083.000000</td>\n",
       "      <td>141.000000</td>\n",
       "      <td>6.000000</td>\n",
       "      <td>23.000000</td>\n",
       "      <td>633233.466570</td>\n",
       "      <td>1.000000</td>\n",
       "      <td>226.291341</td>\n",
       "      <td>225.347649</td>\n",
       "      <td>117.000000</td>\n",
       "    </tr>\n",
       "  </tbody>\n",
       "</table>\n",
       "</div>"
      ],
      "text/plain": [
       "                 Id   DistrictId        Rooms       Square   LifeSquare  \\\n",
       "count   9982.000000  9982.000000  9982.000000  9982.000000  9982.000000   \n",
       "mean    8383.082949    50.412643     1.888800    56.720698    38.706068   \n",
       "std     4858.395017    43.595475     0.812595    19.924175    19.406746   \n",
       "min        0.000000     0.000000     1.000000     4.633498     0.370619   \n",
       "25%     4170.250000    20.000000     1.000000    42.163974    23.924247   \n",
       "50%     8393.500000    36.000000     2.000000    52.915063    34.986310   \n",
       "75%    12591.750000    75.000000     2.000000    66.243288    47.095670   \n",
       "max    16798.000000   209.000000     6.000000   461.463614   461.463614   \n",
       "\n",
       "       KitchenSquare        Floor   HouseFloor    HouseYear    Ecology_1  \\\n",
       "count    9982.000000  9982.000000  9982.000000  9982.000000  9982.000000   \n",
       "mean        5.879283     8.525546    15.291525  1984.846924     0.118853   \n",
       "std         5.175175     5.238572     9.584179    18.407183     0.119069   \n",
       "min         0.000000     1.000000     1.000000  1910.000000     0.000000   \n",
       "25%         1.000000     4.000000     9.000000  1974.000000     0.017647   \n",
       "50%         6.000000     7.000000    16.000000  1977.000000     0.075424   \n",
       "75%         9.000000    12.000000    17.000000  2001.000000     0.195781   \n",
       "max       123.000000    42.000000   117.000000  2020.000000     0.521867   \n",
       "\n",
       "          Social_1      Social_2     Social_3  Helthcare_2      Shops_1  \\\n",
       "count  9982.000000   9982.000000  9982.000000  9982.000000  9982.000000   \n",
       "mean     24.696053   5353.817972     8.036065     1.318874     4.231016   \n",
       "std      17.530484   4006.008636    23.814286     1.492459     4.803787   \n",
       "min       0.000000    168.000000     0.000000     0.000000     0.000000   \n",
       "25%       6.000000   1564.000000     0.000000     0.000000     1.000000   \n",
       "50%      25.000000   5285.000000     2.000000     1.000000     3.000000   \n",
       "75%      36.000000   7227.000000     5.000000     2.000000     6.000000   \n",
       "max      74.000000  19083.000000   141.000000     6.000000    23.000000   \n",
       "\n",
       "               Price     OldHouse   Max_square  Max_lifesquare  Max_housefloor  \n",
       "count    9982.000000  9982.000000  9982.000000     9982.000000     9982.000000  \n",
       "mean   214182.281416     0.000401    55.599483       38.661125       18.965538  \n",
       "std     92902.977839     0.020015    17.123195       16.318148       14.458201  \n",
       "min     59174.778028     0.000000    20.036232        4.736100        2.000000  \n",
       "25%    153898.495433     0.000000    42.163974       28.062699       12.000000  \n",
       "50%    192269.644879     0.000000    50.885245       34.373448       17.000000  \n",
       "75%    249161.507295     0.000000    64.654475       46.576718       25.000000  \n",
       "max    633233.466570     1.000000   226.291341      225.347649      117.000000  "
      ]
     },
     "execution_count": 38,
     "metadata": {},
     "output_type": "execute_result"
    }
   ],
   "source": [
    "data = data.loc[(data['KitchenSquare'] < 500) & (data['Square'] < 500)]\n",
    "data.describe()"
   ]
  },
  {
   "cell_type": "markdown",
   "metadata": {},
   "source": [
    "Делим данные на тренировочные и валидационные"
   ]
  },
  {
   "cell_type": "code",
   "execution_count": 39,
   "metadata": {},
   "outputs": [],
   "source": [
    "train, valid = tts(data, test_size=0.2, random_state=42)"
   ]
  },
  {
   "cell_type": "code",
   "execution_count": 40,
   "metadata": {},
   "outputs": [],
   "source": [
    "mean_price = train.groupby(by=['DistrictId', 'Rooms', 'Ecology_1'])[['Price']].median().reset_index().rename(columns={'Price':'Mean_price'})"
   ]
  },
  {
   "cell_type": "code",
   "execution_count": 41,
   "metadata": {},
   "outputs": [
    {
     "name": "stdout",
     "output_type": "stream",
     "text": [
      "<class 'pandas.core.frame.DataFrame'>\n",
      "Int64Index: 7985 entries, 0 to 7984\n",
      "Data columns (total 24 columns):\n",
      "Id                7985 non-null int64\n",
      "DistrictId        7985 non-null int64\n",
      "Rooms             7985 non-null float64\n",
      "Square            7985 non-null float64\n",
      "LifeSquare        7985 non-null float64\n",
      "KitchenSquare     7985 non-null float64\n",
      "Floor             7985 non-null int64\n",
      "HouseFloor        7985 non-null float64\n",
      "HouseYear         7985 non-null int64\n",
      "Ecology_1         7985 non-null float64\n",
      "Ecology_2         7985 non-null object\n",
      "Ecology_3         7985 non-null object\n",
      "Social_1          7985 non-null int64\n",
      "Social_2          7985 non-null int64\n",
      "Social_3          7985 non-null int64\n",
      "Helthcare_2       7985 non-null int64\n",
      "Shops_1           7985 non-null int64\n",
      "Shops_2           7985 non-null object\n",
      "Price             7985 non-null float64\n",
      "OldHouse          7985 non-null int32\n",
      "Max_square        7985 non-null float64\n",
      "Max_lifesquare    7985 non-null float64\n",
      "Max_housefloor    7985 non-null float64\n",
      "Mean_price        7985 non-null float64\n",
      "dtypes: float64(11), int32(1), int64(9), object(3)\n",
      "memory usage: 1.5+ MB\n"
     ]
    }
   ],
   "source": [
    "train = pd.merge(train, mean_price, on=['DistrictId', 'Rooms', 'Ecology_1'], how='left')\n",
    "train.info()"
   ]
  },
  {
   "cell_type": "code",
   "execution_count": 42,
   "metadata": {},
   "outputs": [
    {
     "name": "stdout",
     "output_type": "stream",
     "text": [
      "<class 'pandas.core.frame.DataFrame'>\n",
      "Int64Index: 1997 entries, 0 to 1996\n",
      "Data columns (total 24 columns):\n",
      "Id                1997 non-null int64\n",
      "DistrictId        1997 non-null int64\n",
      "Rooms             1997 non-null float64\n",
      "Square            1997 non-null float64\n",
      "LifeSquare        1997 non-null float64\n",
      "KitchenSquare     1997 non-null float64\n",
      "Floor             1997 non-null int64\n",
      "HouseFloor        1997 non-null float64\n",
      "HouseYear         1997 non-null int64\n",
      "Ecology_1         1997 non-null float64\n",
      "Ecology_2         1997 non-null object\n",
      "Ecology_3         1997 non-null object\n",
      "Social_1          1997 non-null int64\n",
      "Social_2          1997 non-null int64\n",
      "Social_3          1997 non-null int64\n",
      "Helthcare_2       1997 non-null int64\n",
      "Shops_1           1997 non-null int64\n",
      "Shops_2           1997 non-null object\n",
      "Price             1997 non-null float64\n",
      "OldHouse          1997 non-null int32\n",
      "Max_square        1997 non-null float64\n",
      "Max_lifesquare    1997 non-null float64\n",
      "Max_housefloor    1997 non-null float64\n",
      "Mean_price        1909 non-null float64\n",
      "dtypes: float64(11), int32(1), int64(9), object(3)\n",
      "memory usage: 382.2+ KB\n"
     ]
    }
   ],
   "source": [
    "valid = pd.merge(valid, mean_price, on=['DistrictId', 'Rooms', 'Ecology_1'], how='left')\n",
    "valid.info()"
   ]
  },
  {
   "cell_type": "code",
   "execution_count": 43,
   "metadata": {
    "scrolled": true
   },
   "outputs": [
    {
     "data": {
      "text/plain": [
       "88"
      ]
     },
     "execution_count": 43,
     "metadata": {},
     "output_type": "execute_result"
    }
   ],
   "source": [
    "valid['Mean_price'].isnull().sum()"
   ]
  },
  {
   "cell_type": "code",
   "execution_count": 44,
   "metadata": {},
   "outputs": [],
   "source": [
    "mean_price_2 = train.groupby(by=['Rooms'])[['Price']].mean().reset_index().rename(columns={'Price':'Mean_price2'})"
   ]
  },
  {
   "cell_type": "code",
   "execution_count": 45,
   "metadata": {},
   "outputs": [],
   "source": [
    "train = pd.merge(train, mean_price_2, on=['Rooms'], how='left')\n",
    "valid = pd.merge(valid, mean_price_2, on=['Rooms'], how='left')"
   ]
  },
  {
   "cell_type": "code",
   "execution_count": 46,
   "metadata": {},
   "outputs": [
    {
     "data": {
      "text/plain": [
       "0"
      ]
     },
     "execution_count": 46,
     "metadata": {},
     "output_type": "execute_result"
    }
   ],
   "source": [
    "valid['Mean_price2'].isnull().sum()"
   ]
  },
  {
   "cell_type": "code",
   "execution_count": 47,
   "metadata": {},
   "outputs": [],
   "source": [
    "valid['Mean_price'] = valid['Mean_price'].fillna(valid['Mean_price2'])"
   ]
  },
  {
   "cell_type": "code",
   "execution_count": 49,
   "metadata": {},
   "outputs": [
    {
     "data": {
      "text/plain": [
       "0"
      ]
     },
     "execution_count": 49,
     "metadata": {},
     "output_type": "execute_result"
    }
   ],
   "source": [
    "valid['Mean_price'].isnull().sum()"
   ]
  },
  {
   "cell_type": "code",
   "execution_count": 50,
   "metadata": {},
   "outputs": [
    {
     "name": "stdout",
     "output_type": "stream",
     "text": [
      "<class 'pandas.core.frame.DataFrame'>\n",
      "Int64Index: 1997 entries, 0 to 1996\n",
      "Data columns (total 25 columns):\n",
      "Id                1997 non-null int64\n",
      "DistrictId        1997 non-null int64\n",
      "Rooms             1997 non-null float64\n",
      "Square            1997 non-null float64\n",
      "LifeSquare        1997 non-null float64\n",
      "KitchenSquare     1997 non-null float64\n",
      "Floor             1997 non-null int64\n",
      "HouseFloor        1997 non-null float64\n",
      "HouseYear         1997 non-null int64\n",
      "Ecology_1         1997 non-null float64\n",
      "Ecology_2         1997 non-null object\n",
      "Ecology_3         1997 non-null object\n",
      "Social_1          1997 non-null int64\n",
      "Social_2          1997 non-null int64\n",
      "Social_3          1997 non-null int64\n",
      "Helthcare_2       1997 non-null int64\n",
      "Shops_1           1997 non-null int64\n",
      "Shops_2           1997 non-null object\n",
      "Price             1997 non-null float64\n",
      "OldHouse          1997 non-null int32\n",
      "Max_square        1997 non-null float64\n",
      "Max_lifesquare    1997 non-null float64\n",
      "Max_housefloor    1997 non-null float64\n",
      "Mean_price        1997 non-null float64\n",
      "Mean_price2       1997 non-null float64\n",
      "dtypes: float64(12), int32(1), int64(9), object(3)\n",
      "memory usage: 397.8+ KB\n"
     ]
    }
   ],
   "source": [
    "valid.info()"
   ]
  },
  {
   "cell_type": "code",
   "execution_count": 51,
   "metadata": {},
   "outputs": [],
   "source": [
    "y_train, y_valid = train['Price'], valid['Price']"
   ]
  },
  {
   "cell_type": "code",
   "execution_count": 52,
   "metadata": {},
   "outputs": [
    {
     "data": {
      "text/plain": [
       "Index(['Id', 'DistrictId', 'Rooms', 'Square', 'LifeSquare', 'KitchenSquare',\n",
       "       'Floor', 'HouseFloor', 'HouseYear', 'Ecology_1', 'Ecology_2',\n",
       "       'Ecology_3', 'Social_1', 'Social_2', 'Social_3', 'Helthcare_2',\n",
       "       'Shops_1', 'Shops_2', 'Price', 'OldHouse', 'Max_square',\n",
       "       'Max_lifesquare', 'Max_housefloor', 'Mean_price', 'Mean_price2'],\n",
       "      dtype='object')"
      ]
     },
     "execution_count": 52,
     "metadata": {},
     "output_type": "execute_result"
    }
   ],
   "source": [
    "train.columns"
   ]
  },
  {
   "cell_type": "code",
   "execution_count": 53,
   "metadata": {},
   "outputs": [],
   "source": [
    "fts = ['Rooms', 'Square', 'LifeSquare', 'Ecology_1', 'HouseYear', 'Social_1', 'Social_2', 'Floor',\n",
    "       'Social_3', 'Shops_1', 'Mean_price2', 'HouseFloor', 'KitchenSquare', 'OldHouse']"
   ]
  },
  {
   "cell_type": "code",
   "execution_count": 54,
   "metadata": {},
   "outputs": [
    {
     "name": "stdout",
     "output_type": "stream",
     "text": [
      "<class 'pandas.core.frame.DataFrame'>\n",
      "Int64Index: 7985 entries, 0 to 7984\n",
      "Data columns (total 14 columns):\n",
      "Rooms            7985 non-null float64\n",
      "Square           7985 non-null float64\n",
      "LifeSquare       7985 non-null float64\n",
      "Ecology_1        7985 non-null float64\n",
      "HouseYear        7985 non-null int64\n",
      "Social_1         7985 non-null int64\n",
      "Social_2         7985 non-null int64\n",
      "Floor            7985 non-null int64\n",
      "Social_3         7985 non-null int64\n",
      "Shops_1          7985 non-null int64\n",
      "Mean_price2      7985 non-null float64\n",
      "HouseFloor       7985 non-null float64\n",
      "KitchenSquare    7985 non-null float64\n",
      "OldHouse         7985 non-null int32\n",
      "dtypes: float64(7), int32(1), int64(6)\n",
      "memory usage: 904.6 KB\n"
     ]
    }
   ],
   "source": [
    "train[fts].info()"
   ]
  },
  {
   "cell_type": "markdown",
   "metadata": {},
   "source": [
    "Линейная регрессия"
   ]
  },
  {
   "cell_type": "code",
   "execution_count": 55,
   "metadata": {},
   "outputs": [
    {
     "data": {
      "text/plain": [
       "LinearRegression(copy_X=True, fit_intercept=True, n_jobs=None,\n",
       "         normalize=False)"
      ]
     },
     "execution_count": 55,
     "metadata": {},
     "output_type": "execute_result"
    }
   ],
   "source": [
    "lr = LinearRegression()\n",
    "lr.fit(train[fts], y_train)"
   ]
  },
  {
   "cell_type": "code",
   "execution_count": 56,
   "metadata": {},
   "outputs": [
    {
     "name": "stdout",
     "output_type": "stream",
     "text": [
      "Train score is  0.4760336085007145\n",
      "Valid score is  0.49897140356223146\n"
     ]
    }
   ],
   "source": [
    "model_score(lr)"
   ]
  },
  {
   "cell_type": "markdown",
   "metadata": {},
   "source": [
    "Случайный лес деревьев"
   ]
  },
  {
   "cell_type": "code",
   "execution_count": 57,
   "metadata": {},
   "outputs": [
    {
     "data": {
      "text/plain": [
       "RandomForestRegressor(bootstrap=True, criterion='mse', max_depth=14,\n",
       "           max_features=11, max_leaf_nodes=None, min_impurity_decrease=0.0,\n",
       "           min_impurity_split=None, min_samples_leaf=3,\n",
       "           min_samples_split=9, min_weight_fraction_leaf=0.0,\n",
       "           n_estimators=240, n_jobs=None, oob_score=False, random_state=42,\n",
       "           verbose=0, warm_start=False)"
      ]
     },
     "execution_count": 57,
     "metadata": {},
     "output_type": "execute_result"
    }
   ],
   "source": [
    "rf = RandomForestRegressor(n_estimators=240, random_state=42, min_samples_leaf=3, max_depth=14, max_features=11, min_samples_split=9)\n",
    "rf.fit(train[fts], y_train)"
   ]
  },
  {
   "cell_type": "code",
   "execution_count": 58,
   "metadata": {},
   "outputs": [
    {
     "name": "stdout",
     "output_type": "stream",
     "text": [
      "Train score is  0.8708588219098852\n",
      "Valid score is  0.7416048266333186\n"
     ]
    }
   ],
   "source": [
    "model_score(rf)"
   ]
  },
  {
   "cell_type": "markdown",
   "metadata": {},
   "source": [
    "Градиентный бустинг"
   ]
  },
  {
   "cell_type": "code",
   "execution_count": 59,
   "metadata": {},
   "outputs": [
    {
     "data": {
      "text/plain": [
       "GradientBoostingRegressor(alpha=0.9, criterion='friedman_mse', init=None,\n",
       "             learning_rate=0.1, loss='ls', max_depth=3, max_features=5,\n",
       "             max_leaf_nodes=None, min_impurity_decrease=0.0,\n",
       "             min_impurity_split=None, min_samples_leaf=3,\n",
       "             min_samples_split=3, min_weight_fraction_leaf=0.0,\n",
       "             n_estimators=840, n_iter_no_change=None, presort='auto',\n",
       "             random_state=42, subsample=1.0, tol=0.0001,\n",
       "             validation_fraction=0.1, verbose=0, warm_start=False)"
      ]
     },
     "execution_count": 59,
     "metadata": {},
     "output_type": "execute_result"
    }
   ],
   "source": [
    "gbr = GradientBoostingRegressor(n_estimators=840, max_depth=3, learning_rate=0.1, min_samples_split=3, \n",
    "                                max_features=5, random_state=42, min_samples_leaf=3)\n",
    "gbr.fit(train[fts], y_train)"
   ]
  },
  {
   "cell_type": "code",
   "execution_count": 60,
   "metadata": {},
   "outputs": [
    {
     "name": "stdout",
     "output_type": "stream",
     "text": [
      "Train score is  0.8573854258527649\n",
      "Valid score is  0.7517313139864079\n"
     ]
    }
   ],
   "source": [
    "model_score(gbr)"
   ]
  },
  {
   "cell_type": "markdown",
   "metadata": {},
   "source": [
    "Чистим данные для test"
   ]
  },
  {
   "cell_type": "code",
   "execution_count": 61,
   "metadata": {},
   "outputs": [
    {
     "data": {
      "text/html": [
       "<div>\n",
       "<style scoped>\n",
       "    .dataframe tbody tr th:only-of-type {\n",
       "        vertical-align: middle;\n",
       "    }\n",
       "\n",
       "    .dataframe tbody tr th {\n",
       "        vertical-align: top;\n",
       "    }\n",
       "\n",
       "    .dataframe thead th {\n",
       "        text-align: right;\n",
       "    }\n",
       "</style>\n",
       "<table border=\"1\" class=\"dataframe\">\n",
       "  <thead>\n",
       "    <tr style=\"text-align: right;\">\n",
       "      <th></th>\n",
       "      <th>Id</th>\n",
       "      <th>DistrictId</th>\n",
       "      <th>Rooms</th>\n",
       "      <th>Square</th>\n",
       "      <th>LifeSquare</th>\n",
       "      <th>KitchenSquare</th>\n",
       "      <th>Floor</th>\n",
       "      <th>HouseFloor</th>\n",
       "      <th>HouseYear</th>\n",
       "      <th>Ecology_1</th>\n",
       "      <th>Social_1</th>\n",
       "      <th>Social_2</th>\n",
       "      <th>Social_3</th>\n",
       "      <th>Healthcare_1</th>\n",
       "      <th>Helthcare_2</th>\n",
       "      <th>Shops_1</th>\n",
       "    </tr>\n",
       "  </thead>\n",
       "  <tbody>\n",
       "    <tr>\n",
       "      <th>count</th>\n",
       "      <td>5000.000000</td>\n",
       "      <td>5000.000000</td>\n",
       "      <td>5000.000000</td>\n",
       "      <td>5000.000000</td>\n",
       "      <td>3959.000000</td>\n",
       "      <td>5000.000000</td>\n",
       "      <td>5000.000000</td>\n",
       "      <td>5000.000000</td>\n",
       "      <td>5000.000000</td>\n",
       "      <td>5000.000000</td>\n",
       "      <td>5000.000000</td>\n",
       "      <td>5000.000000</td>\n",
       "      <td>5000.000000</td>\n",
       "      <td>2623.000000</td>\n",
       "      <td>5000.00000</td>\n",
       "      <td>5000.000000</td>\n",
       "    </tr>\n",
       "    <tr>\n",
       "      <th>mean</th>\n",
       "      <td>8412.595400</td>\n",
       "      <td>51.279200</td>\n",
       "      <td>1.910000</td>\n",
       "      <td>56.449500</td>\n",
       "      <td>36.158810</td>\n",
       "      <td>5.976800</td>\n",
       "      <td>8.632000</td>\n",
       "      <td>12.601000</td>\n",
       "      <td>1984.392600</td>\n",
       "      <td>0.119874</td>\n",
       "      <td>24.933800</td>\n",
       "      <td>5406.900000</td>\n",
       "      <td>8.262600</td>\n",
       "      <td>1146.657263</td>\n",
       "      <td>1.31940</td>\n",
       "      <td>4.242800</td>\n",
       "    </tr>\n",
       "    <tr>\n",
       "      <th>std</th>\n",
       "      <td>4832.674037</td>\n",
       "      <td>44.179466</td>\n",
       "      <td>0.838594</td>\n",
       "      <td>19.092787</td>\n",
       "      <td>17.825287</td>\n",
       "      <td>9.950018</td>\n",
       "      <td>5.483228</td>\n",
       "      <td>6.789213</td>\n",
       "      <td>18.573149</td>\n",
       "      <td>0.120070</td>\n",
       "      <td>17.532202</td>\n",
       "      <td>4026.614773</td>\n",
       "      <td>23.863762</td>\n",
       "      <td>1044.744231</td>\n",
       "      <td>1.47994</td>\n",
       "      <td>4.777365</td>\n",
       "    </tr>\n",
       "    <tr>\n",
       "      <th>min</th>\n",
       "      <td>1.000000</td>\n",
       "      <td>0.000000</td>\n",
       "      <td>0.000000</td>\n",
       "      <td>1.378543</td>\n",
       "      <td>0.333490</td>\n",
       "      <td>0.000000</td>\n",
       "      <td>1.000000</td>\n",
       "      <td>0.000000</td>\n",
       "      <td>1908.000000</td>\n",
       "      <td>0.000000</td>\n",
       "      <td>0.000000</td>\n",
       "      <td>168.000000</td>\n",
       "      <td>0.000000</td>\n",
       "      <td>0.000000</td>\n",
       "      <td>0.00000</td>\n",
       "      <td>0.000000</td>\n",
       "    </tr>\n",
       "    <tr>\n",
       "      <th>25%</th>\n",
       "      <td>4221.750000</td>\n",
       "      <td>21.000000</td>\n",
       "      <td>1.000000</td>\n",
       "      <td>41.906231</td>\n",
       "      <td>23.092026</td>\n",
       "      <td>1.000000</td>\n",
       "      <td>4.000000</td>\n",
       "      <td>9.000000</td>\n",
       "      <td>1973.000000</td>\n",
       "      <td>0.019509</td>\n",
       "      <td>6.000000</td>\n",
       "      <td>1564.000000</td>\n",
       "      <td>0.000000</td>\n",
       "      <td>325.000000</td>\n",
       "      <td>0.00000</td>\n",
       "      <td>1.000000</td>\n",
       "    </tr>\n",
       "    <tr>\n",
       "      <th>50%</th>\n",
       "      <td>8320.500000</td>\n",
       "      <td>37.000000</td>\n",
       "      <td>2.000000</td>\n",
       "      <td>52.921340</td>\n",
       "      <td>32.925087</td>\n",
       "      <td>6.000000</td>\n",
       "      <td>7.000000</td>\n",
       "      <td>12.000000</td>\n",
       "      <td>1977.000000</td>\n",
       "      <td>0.072158</td>\n",
       "      <td>25.000000</td>\n",
       "      <td>5285.000000</td>\n",
       "      <td>2.000000</td>\n",
       "      <td>900.000000</td>\n",
       "      <td>1.00000</td>\n",
       "      <td>3.000000</td>\n",
       "    </tr>\n",
       "    <tr>\n",
       "      <th>75%</th>\n",
       "      <td>12598.250000</td>\n",
       "      <td>77.000000</td>\n",
       "      <td>2.000000</td>\n",
       "      <td>66.285129</td>\n",
       "      <td>45.174091</td>\n",
       "      <td>9.000000</td>\n",
       "      <td>12.000000</td>\n",
       "      <td>17.000000</td>\n",
       "      <td>2000.000000</td>\n",
       "      <td>0.195781</td>\n",
       "      <td>36.000000</td>\n",
       "      <td>7287.000000</td>\n",
       "      <td>5.000000</td>\n",
       "      <td>1548.000000</td>\n",
       "      <td>2.00000</td>\n",
       "      <td>6.000000</td>\n",
       "    </tr>\n",
       "    <tr>\n",
       "      <th>max</th>\n",
       "      <td>16795.000000</td>\n",
       "      <td>212.000000</td>\n",
       "      <td>17.000000</td>\n",
       "      <td>223.453689</td>\n",
       "      <td>303.071094</td>\n",
       "      <td>620.000000</td>\n",
       "      <td>78.000000</td>\n",
       "      <td>99.000000</td>\n",
       "      <td>2020.000000</td>\n",
       "      <td>0.521867</td>\n",
       "      <td>74.000000</td>\n",
       "      <td>19083.000000</td>\n",
       "      <td>141.000000</td>\n",
       "      <td>4849.000000</td>\n",
       "      <td>6.00000</td>\n",
       "      <td>23.000000</td>\n",
       "    </tr>\n",
       "  </tbody>\n",
       "</table>\n",
       "</div>"
      ],
      "text/plain": [
       "                 Id   DistrictId        Rooms       Square   LifeSquare  \\\n",
       "count   5000.000000  5000.000000  5000.000000  5000.000000  3959.000000   \n",
       "mean    8412.595400    51.279200     1.910000    56.449500    36.158810   \n",
       "std     4832.674037    44.179466     0.838594    19.092787    17.825287   \n",
       "min        1.000000     0.000000     0.000000     1.378543     0.333490   \n",
       "25%     4221.750000    21.000000     1.000000    41.906231    23.092026   \n",
       "50%     8320.500000    37.000000     2.000000    52.921340    32.925087   \n",
       "75%    12598.250000    77.000000     2.000000    66.285129    45.174091   \n",
       "max    16795.000000   212.000000    17.000000   223.453689   303.071094   \n",
       "\n",
       "       KitchenSquare        Floor   HouseFloor    HouseYear    Ecology_1  \\\n",
       "count    5000.000000  5000.000000  5000.000000  5000.000000  5000.000000   \n",
       "mean        5.976800     8.632000    12.601000  1984.392600     0.119874   \n",
       "std         9.950018     5.483228     6.789213    18.573149     0.120070   \n",
       "min         0.000000     1.000000     0.000000  1908.000000     0.000000   \n",
       "25%         1.000000     4.000000     9.000000  1973.000000     0.019509   \n",
       "50%         6.000000     7.000000    12.000000  1977.000000     0.072158   \n",
       "75%         9.000000    12.000000    17.000000  2000.000000     0.195781   \n",
       "max       620.000000    78.000000    99.000000  2020.000000     0.521867   \n",
       "\n",
       "          Social_1      Social_2     Social_3  Healthcare_1  Helthcare_2  \\\n",
       "count  5000.000000   5000.000000  5000.000000   2623.000000   5000.00000   \n",
       "mean     24.933800   5406.900000     8.262600   1146.657263      1.31940   \n",
       "std      17.532202   4026.614773    23.863762   1044.744231      1.47994   \n",
       "min       0.000000    168.000000     0.000000      0.000000      0.00000   \n",
       "25%       6.000000   1564.000000     0.000000    325.000000      0.00000   \n",
       "50%      25.000000   5285.000000     2.000000    900.000000      1.00000   \n",
       "75%      36.000000   7287.000000     5.000000   1548.000000      2.00000   \n",
       "max      74.000000  19083.000000   141.000000   4849.000000      6.00000   \n",
       "\n",
       "           Shops_1  \n",
       "count  5000.000000  \n",
       "mean      4.242800  \n",
       "std       4.777365  \n",
       "min       0.000000  \n",
       "25%       1.000000  \n",
       "50%       3.000000  \n",
       "75%       6.000000  \n",
       "max      23.000000  "
      ]
     },
     "execution_count": 61,
     "metadata": {},
     "output_type": "execute_result"
    }
   ],
   "source": [
    "test.describe()"
   ]
  },
  {
   "cell_type": "code",
   "execution_count": 62,
   "metadata": {},
   "outputs": [],
   "source": [
    "x_year = 1915\n",
    "test['OldHouse'] = (test['HouseYear'] <= x_year).astype(int)"
   ]
  },
  {
   "cell_type": "code",
   "execution_count": 63,
   "metadata": {},
   "outputs": [
    {
     "data": {
      "text/html": [
       "<div>\n",
       "<style scoped>\n",
       "    .dataframe tbody tr th:only-of-type {\n",
       "        vertical-align: middle;\n",
       "    }\n",
       "\n",
       "    .dataframe tbody tr th {\n",
       "        vertical-align: top;\n",
       "    }\n",
       "\n",
       "    .dataframe thead th {\n",
       "        text-align: right;\n",
       "    }\n",
       "</style>\n",
       "<table border=\"1\" class=\"dataframe\">\n",
       "  <thead>\n",
       "    <tr style=\"text-align: right;\">\n",
       "      <th></th>\n",
       "      <th>DistrictId</th>\n",
       "      <th>Rooms</th>\n",
       "      <th>Ecology_1</th>\n",
       "      <th>Max_square</th>\n",
       "      <th>Max_lifesquare</th>\n",
       "    </tr>\n",
       "  </thead>\n",
       "  <tbody>\n",
       "    <tr>\n",
       "      <th>0</th>\n",
       "      <td>0</td>\n",
       "      <td>1.0</td>\n",
       "      <td>0.006076</td>\n",
       "      <td>42.704131</td>\n",
       "      <td>20.614875</td>\n",
       "    </tr>\n",
       "    <tr>\n",
       "      <th>1</th>\n",
       "      <td>0</td>\n",
       "      <td>1.0</td>\n",
       "      <td>0.319809</td>\n",
       "      <td>34.789450</td>\n",
       "      <td>19.943391</td>\n",
       "    </tr>\n",
       "    <tr>\n",
       "      <th>2</th>\n",
       "      <td>0</td>\n",
       "      <td>2.0</td>\n",
       "      <td>0.006076</td>\n",
       "      <td>45.797451</td>\n",
       "      <td>32.445527</td>\n",
       "    </tr>\n",
       "    <tr>\n",
       "      <th>3</th>\n",
       "      <td>0</td>\n",
       "      <td>2.0</td>\n",
       "      <td>0.319809</td>\n",
       "      <td>44.656467</td>\n",
       "      <td>28.435208</td>\n",
       "    </tr>\n",
       "    <tr>\n",
       "      <th>4</th>\n",
       "      <td>0</td>\n",
       "      <td>3.0</td>\n",
       "      <td>0.006076</td>\n",
       "      <td>108.851325</td>\n",
       "      <td>53.427051</td>\n",
       "    </tr>\n",
       "  </tbody>\n",
       "</table>\n",
       "</div>"
      ],
      "text/plain": [
       "   DistrictId  Rooms  Ecology_1  Max_square  Max_lifesquare\n",
       "0           0    1.0   0.006076   42.704131       20.614875\n",
       "1           0    1.0   0.319809   34.789450       19.943391\n",
       "2           0    2.0   0.006076   45.797451       32.445527\n",
       "3           0    2.0   0.319809   44.656467       28.435208\n",
       "4           0    3.0   0.006076  108.851325       53.427051"
      ]
     },
     "execution_count": 63,
     "metadata": {},
     "output_type": "execute_result"
    }
   ],
   "source": [
    "max_square = test.groupby(['DistrictId','Rooms', 'Ecology_1']).agg({'Square': ['median'], 'LifeSquare':['median']})\n",
    "max_square.columns = max_square.columns.swaplevel().droplevel()\n",
    "max_square = max_square.reset_index().rename(columns={'LifeSquare': 'Max_lifesquare', 'Square': 'Max_square'})\n",
    "max_square.head()"
   ]
  },
  {
   "cell_type": "code",
   "execution_count": 64,
   "metadata": {},
   "outputs": [
    {
     "data": {
      "text/plain": [
       "(982, 5)"
      ]
     },
     "execution_count": 64,
     "metadata": {},
     "output_type": "execute_result"
    }
   ],
   "source": [
    "max_square.shape"
   ]
  },
  {
   "cell_type": "code",
   "execution_count": 65,
   "metadata": {},
   "outputs": [
    {
     "data": {
      "text/plain": [
       "(13, 5)"
      ]
     },
     "execution_count": 65,
     "metadata": {},
     "output_type": "execute_result"
    }
   ],
   "source": [
    "max_square.loc[max_square['Max_lifesquare'].isnull()].shape"
   ]
  },
  {
   "cell_type": "code",
   "execution_count": 66,
   "metadata": {},
   "outputs": [
    {
     "data": {
      "text/plain": [
       "(0, 5)"
      ]
     },
     "execution_count": 66,
     "metadata": {},
     "output_type": "execute_result"
    }
   ],
   "source": [
    "max_square['Max_lifesquare'] = max_square['Max_lifesquare'].fillna(max_square['Max_square'])\n",
    "max_square.loc[max_square['Max_lifesquare'].isnull()].shape"
   ]
  },
  {
   "cell_type": "code",
   "execution_count": 67,
   "metadata": {},
   "outputs": [
    {
     "data": {
      "text/plain": [
       "(14, 5)"
      ]
     },
     "execution_count": 67,
     "metadata": {},
     "output_type": "execute_result"
    }
   ],
   "source": [
    "max_square.loc[(max_square['Max_lifesquare'] > max_square['Max_square'])].shape"
   ]
  },
  {
   "cell_type": "code",
   "execution_count": 68,
   "metadata": {},
   "outputs": [
    {
     "data": {
      "text/plain": [
       "(0, 5)"
      ]
     },
     "execution_count": 68,
     "metadata": {},
     "output_type": "execute_result"
    }
   ],
   "source": [
    "max_square.loc[(max_square['Max_lifesquare'] > max_square['Max_square']), 'Max_square'] = max_square.loc[(max_square['Max_lifesquare'] > max_square['Max_square']), 'Max_lifesquare']\n",
    "max_square.loc[(max_square['Max_lifesquare'] > max_square['Max_square']), :].shape"
   ]
  },
  {
   "cell_type": "code",
   "execution_count": 69,
   "metadata": {},
   "outputs": [
    {
     "name": "stdout",
     "output_type": "stream",
     "text": [
      "<class 'pandas.core.frame.DataFrame'>\n",
      "RangeIndex: 982 entries, 0 to 981\n",
      "Data columns (total 5 columns):\n",
      "DistrictId        982 non-null int64\n",
      "Rooms             982 non-null float64\n",
      "Ecology_1         982 non-null float64\n",
      "Max_square        982 non-null float64\n",
      "Max_lifesquare    982 non-null float64\n",
      "dtypes: float64(4), int64(1)\n",
      "memory usage: 38.4 KB\n"
     ]
    }
   ],
   "source": [
    "max_square.info()"
   ]
  },
  {
   "cell_type": "code",
   "execution_count": 70,
   "metadata": {},
   "outputs": [
    {
     "name": "stdout",
     "output_type": "stream",
     "text": [
      "<class 'pandas.core.frame.DataFrame'>\n",
      "Int64Index: 5000 entries, 0 to 4999\n",
      "Data columns (total 22 columns):\n",
      "Id                5000 non-null int64\n",
      "DistrictId        5000 non-null int64\n",
      "Rooms             5000 non-null float64\n",
      "Square            5000 non-null float64\n",
      "LifeSquare        3959 non-null float64\n",
      "KitchenSquare     5000 non-null float64\n",
      "Floor             5000 non-null int64\n",
      "HouseFloor        5000 non-null float64\n",
      "HouseYear         5000 non-null int64\n",
      "Ecology_1         5000 non-null float64\n",
      "Ecology_2         5000 non-null object\n",
      "Ecology_3         5000 non-null object\n",
      "Social_1          5000 non-null int64\n",
      "Social_2          5000 non-null int64\n",
      "Social_3          5000 non-null int64\n",
      "Healthcare_1      2623 non-null float64\n",
      "Helthcare_2       5000 non-null int64\n",
      "Shops_1           5000 non-null int64\n",
      "Shops_2           5000 non-null object\n",
      "OldHouse          5000 non-null int32\n",
      "Max_square        5000 non-null float64\n",
      "Max_lifesquare    5000 non-null float64\n",
      "dtypes: float64(9), int32(1), int64(9), object(3)\n",
      "memory usage: 878.9+ KB\n"
     ]
    }
   ],
   "source": [
    "test = pd.merge(test, max_square, on=['DistrictId', 'Rooms', 'Ecology_1'], how='left')\n",
    "test.info()"
   ]
  },
  {
   "cell_type": "code",
   "execution_count": 71,
   "metadata": {},
   "outputs": [],
   "source": [
    "test['LifeSquare'] = test['LifeSquare'].fillna(test['Max_lifesquare'])"
   ]
  },
  {
   "cell_type": "code",
   "execution_count": 72,
   "metadata": {},
   "outputs": [
    {
     "name": "stdout",
     "output_type": "stream",
     "text": [
      "<class 'pandas.core.frame.DataFrame'>\n",
      "Int64Index: 5000 entries, 0 to 4999\n",
      "Data columns (total 22 columns):\n",
      "Id                5000 non-null int64\n",
      "DistrictId        5000 non-null int64\n",
      "Rooms             5000 non-null float64\n",
      "Square            5000 non-null float64\n",
      "LifeSquare        5000 non-null float64\n",
      "KitchenSquare     5000 non-null float64\n",
      "Floor             5000 non-null int64\n",
      "HouseFloor        5000 non-null float64\n",
      "HouseYear         5000 non-null int64\n",
      "Ecology_1         5000 non-null float64\n",
      "Ecology_2         5000 non-null object\n",
      "Ecology_3         5000 non-null object\n",
      "Social_1          5000 non-null int64\n",
      "Social_2          5000 non-null int64\n",
      "Social_3          5000 non-null int64\n",
      "Healthcare_1      2623 non-null float64\n",
      "Helthcare_2       5000 non-null int64\n",
      "Shops_1           5000 non-null int64\n",
      "Shops_2           5000 non-null object\n",
      "OldHouse          5000 non-null int32\n",
      "Max_square        5000 non-null float64\n",
      "Max_lifesquare    5000 non-null float64\n",
      "dtypes: float64(9), int32(1), int64(9), object(3)\n",
      "memory usage: 878.9+ KB\n"
     ]
    }
   ],
   "source": [
    "test.info()"
   ]
  },
  {
   "cell_type": "code",
   "execution_count": 73,
   "metadata": {},
   "outputs": [
    {
     "data": {
      "text/plain": [
       "(420, 22)"
      ]
     },
     "execution_count": 73,
     "metadata": {},
     "output_type": "execute_result"
    }
   ],
   "source": [
    "test.loc[test['Square'] < test['LifeSquare'], :].shape"
   ]
  },
  {
   "cell_type": "code",
   "execution_count": 74,
   "metadata": {},
   "outputs": [
    {
     "data": {
      "text/plain": [
       "(151, 22)"
      ]
     },
     "execution_count": 74,
     "metadata": {},
     "output_type": "execute_result"
    }
   ],
   "source": [
    "test.loc[(test['Square'] < test['LifeSquare']), 'Square'] = test.loc[(test['Square'] < test['LifeSquare']), 'Max_square']\n",
    "test.loc[test['Square'] < test['LifeSquare'], :].shape"
   ]
  },
  {
   "cell_type": "code",
   "execution_count": 75,
   "metadata": {},
   "outputs": [
    {
     "data": {
      "text/plain": [
       "(0, 22)"
      ]
     },
     "execution_count": 75,
     "metadata": {},
     "output_type": "execute_result"
    }
   ],
   "source": [
    "test.loc[(test['Square'] < test['LifeSquare']), 'Square'] = test.loc[(test['Square'] < test['LifeSquare']), 'LifeSquare']\n",
    "test.loc[test['Square'] < test['LifeSquare'], :].shape"
   ]
  },
  {
   "cell_type": "code",
   "execution_count": 76,
   "metadata": {},
   "outputs": [
    {
     "data": {
      "text/html": [
       "<div>\n",
       "<style scoped>\n",
       "    .dataframe tbody tr th:only-of-type {\n",
       "        vertical-align: middle;\n",
       "    }\n",
       "\n",
       "    .dataframe tbody tr th {\n",
       "        vertical-align: top;\n",
       "    }\n",
       "\n",
       "    .dataframe thead th {\n",
       "        text-align: right;\n",
       "    }\n",
       "</style>\n",
       "<table border=\"1\" class=\"dataframe\">\n",
       "  <thead>\n",
       "    <tr style=\"text-align: right;\">\n",
       "      <th></th>\n",
       "      <th>DistrictId</th>\n",
       "      <th>HouseYear</th>\n",
       "      <th>Ecology_1</th>\n",
       "      <th>Max_housefloor</th>\n",
       "      <th>Max_floor</th>\n",
       "    </tr>\n",
       "  </thead>\n",
       "  <tbody>\n",
       "    <tr>\n",
       "      <th>0</th>\n",
       "      <td>0</td>\n",
       "      <td>1938</td>\n",
       "      <td>0.319809</td>\n",
       "      <td>5.0</td>\n",
       "      <td>5</td>\n",
       "    </tr>\n",
       "    <tr>\n",
       "      <th>1</th>\n",
       "      <td>0</td>\n",
       "      <td>1961</td>\n",
       "      <td>0.319809</td>\n",
       "      <td>5.0</td>\n",
       "      <td>6</td>\n",
       "    </tr>\n",
       "    <tr>\n",
       "      <th>2</th>\n",
       "      <td>0</td>\n",
       "      <td>1962</td>\n",
       "      <td>0.319809</td>\n",
       "      <td>5.0</td>\n",
       "      <td>7</td>\n",
       "    </tr>\n",
       "    <tr>\n",
       "      <th>3</th>\n",
       "      <td>0</td>\n",
       "      <td>1963</td>\n",
       "      <td>0.319809</td>\n",
       "      <td>8.0</td>\n",
       "      <td>4</td>\n",
       "    </tr>\n",
       "    <tr>\n",
       "      <th>4</th>\n",
       "      <td>0</td>\n",
       "      <td>1965</td>\n",
       "      <td>0.319809</td>\n",
       "      <td>12.0</td>\n",
       "      <td>12</td>\n",
       "    </tr>\n",
       "  </tbody>\n",
       "</table>\n",
       "</div>"
      ],
      "text/plain": [
       "   DistrictId  HouseYear  Ecology_1  Max_housefloor  Max_floor\n",
       "0           0       1938   0.319809             5.0          5\n",
       "1           0       1961   0.319809             5.0          6\n",
       "2           0       1962   0.319809             5.0          7\n",
       "3           0       1963   0.319809             8.0          4\n",
       "4           0       1965   0.319809            12.0         12"
      ]
     },
     "execution_count": 76,
     "metadata": {},
     "output_type": "execute_result"
    }
   ],
   "source": [
    "max_floor = test.groupby(['DistrictId','HouseYear','Ecology_1'])[['HouseFloor', 'Floor']].max().reset_index().rename(columns={'HouseFloor': 'Max_housefloor', 'Floor': 'Max_floor'})\n",
    "max_floor.head()"
   ]
  },
  {
   "cell_type": "code",
   "execution_count": 77,
   "metadata": {},
   "outputs": [
    {
     "data": {
      "text/plain": [
       "(344, 5)"
      ]
     },
     "execution_count": 77,
     "metadata": {},
     "output_type": "execute_result"
    }
   ],
   "source": [
    "max_floor.loc[max_floor['Max_housefloor'] < max_floor['Max_floor']].shape"
   ]
  },
  {
   "cell_type": "code",
   "execution_count": 78,
   "metadata": {},
   "outputs": [
    {
     "data": {
      "text/plain": [
       "(0, 5)"
      ]
     },
     "execution_count": 78,
     "metadata": {},
     "output_type": "execute_result"
    }
   ],
   "source": [
    "max_floor.loc[max_floor['Max_housefloor'] < max_floor['Max_floor'], 'Max_housefloor'] = max_floor.loc[max_floor['Max_housefloor'] < max_floor['Max_floor'], 'Max_floor']\n",
    "max_floor.loc[max_floor['Max_housefloor'] < max_floor['Max_floor']].shape"
   ]
  },
  {
   "cell_type": "code",
   "execution_count": 79,
   "metadata": {},
   "outputs": [],
   "source": [
    "max_floor = max_floor.drop(['Max_floor'], axis=1)"
   ]
  },
  {
   "cell_type": "code",
   "execution_count": 80,
   "metadata": {},
   "outputs": [
    {
     "name": "stdout",
     "output_type": "stream",
     "text": [
      "<class 'pandas.core.frame.DataFrame'>\n",
      "Int64Index: 5000 entries, 0 to 4999\n",
      "Data columns (total 23 columns):\n",
      "Id                5000 non-null int64\n",
      "DistrictId        5000 non-null int64\n",
      "Rooms             5000 non-null float64\n",
      "Square            5000 non-null float64\n",
      "LifeSquare        5000 non-null float64\n",
      "KitchenSquare     5000 non-null float64\n",
      "Floor             5000 non-null int64\n",
      "HouseFloor        5000 non-null float64\n",
      "HouseYear         5000 non-null int64\n",
      "Ecology_1         5000 non-null float64\n",
      "Ecology_2         5000 non-null object\n",
      "Ecology_3         5000 non-null object\n",
      "Social_1          5000 non-null int64\n",
      "Social_2          5000 non-null int64\n",
      "Social_3          5000 non-null int64\n",
      "Healthcare_1      2623 non-null float64\n",
      "Helthcare_2       5000 non-null int64\n",
      "Shops_1           5000 non-null int64\n",
      "Shops_2           5000 non-null object\n",
      "OldHouse          5000 non-null int32\n",
      "Max_square        5000 non-null float64\n",
      "Max_lifesquare    5000 non-null float64\n",
      "Max_housefloor    5000 non-null float64\n",
      "dtypes: float64(10), int32(1), int64(9), object(3)\n",
      "memory usage: 918.0+ KB\n"
     ]
    }
   ],
   "source": [
    "test = pd.merge(test, max_floor, on=['DistrictId', 'HouseYear', 'Ecology_1'], how='left')\n",
    "test.info()"
   ]
  },
  {
   "cell_type": "code",
   "execution_count": 81,
   "metadata": {},
   "outputs": [
    {
     "data": {
      "text/plain": [
       "(884, 23)"
      ]
     },
     "execution_count": 81,
     "metadata": {},
     "output_type": "execute_result"
    }
   ],
   "source": [
    "test.loc[(test['HouseFloor'] < test['Floor']), :].shape"
   ]
  },
  {
   "cell_type": "code",
   "execution_count": 82,
   "metadata": {},
   "outputs": [
    {
     "data": {
      "text/plain": [
       "(0, 23)"
      ]
     },
     "execution_count": 82,
     "metadata": {},
     "output_type": "execute_result"
    }
   ],
   "source": [
    "test.loc[(test['HouseFloor'] < test['Floor']), 'HouseFloor'] = test.loc[(test['HouseFloor'] < test['Floor']), 'Max_housefloor']\n",
    "test.loc[(test['HouseFloor'] < test['Floor']), :].shape"
   ]
  },
  {
   "cell_type": "code",
   "execution_count": 83,
   "metadata": {},
   "outputs": [
    {
     "data": {
      "text/html": [
       "<div>\n",
       "<style scoped>\n",
       "    .dataframe tbody tr th:only-of-type {\n",
       "        vertical-align: middle;\n",
       "    }\n",
       "\n",
       "    .dataframe tbody tr th {\n",
       "        vertical-align: top;\n",
       "    }\n",
       "\n",
       "    .dataframe thead th {\n",
       "        text-align: right;\n",
       "    }\n",
       "</style>\n",
       "<table border=\"1\" class=\"dataframe\">\n",
       "  <thead>\n",
       "    <tr style=\"text-align: right;\">\n",
       "      <th></th>\n",
       "      <th>Id</th>\n",
       "      <th>DistrictId</th>\n",
       "      <th>Rooms</th>\n",
       "      <th>Square</th>\n",
       "      <th>LifeSquare</th>\n",
       "      <th>KitchenSquare</th>\n",
       "      <th>Floor</th>\n",
       "      <th>HouseFloor</th>\n",
       "      <th>HouseYear</th>\n",
       "      <th>Ecology_1</th>\n",
       "      <th>Social_1</th>\n",
       "      <th>Social_2</th>\n",
       "      <th>Social_3</th>\n",
       "      <th>Healthcare_1</th>\n",
       "      <th>Helthcare_2</th>\n",
       "      <th>Shops_1</th>\n",
       "      <th>OldHouse</th>\n",
       "      <th>Max_square</th>\n",
       "      <th>Max_lifesquare</th>\n",
       "      <th>Max_housefloor</th>\n",
       "    </tr>\n",
       "  </thead>\n",
       "  <tbody>\n",
       "    <tr>\n",
       "      <th>count</th>\n",
       "      <td>5000.000000</td>\n",
       "      <td>5000.000000</td>\n",
       "      <td>5000.000000</td>\n",
       "      <td>5000.000000</td>\n",
       "      <td>5000.000000</td>\n",
       "      <td>5000.000000</td>\n",
       "      <td>5000.000000</td>\n",
       "      <td>5000.000000</td>\n",
       "      <td>5000.000000</td>\n",
       "      <td>5000.000000</td>\n",
       "      <td>5000.000000</td>\n",
       "      <td>5000.000000</td>\n",
       "      <td>5000.000000</td>\n",
       "      <td>2623.000000</td>\n",
       "      <td>5000.00000</td>\n",
       "      <td>5000.000000</td>\n",
       "      <td>5000.000000</td>\n",
       "      <td>5000.000000</td>\n",
       "      <td>5000.000000</td>\n",
       "      <td>5000.000000</td>\n",
       "    </tr>\n",
       "    <tr>\n",
       "      <th>mean</th>\n",
       "      <td>8412.595400</td>\n",
       "      <td>51.279200</td>\n",
       "      <td>1.910000</td>\n",
       "      <td>56.888383</td>\n",
       "      <td>38.320648</td>\n",
       "      <td>5.976800</td>\n",
       "      <td>8.632000</td>\n",
       "      <td>15.224000</td>\n",
       "      <td>1984.392600</td>\n",
       "      <td>0.119874</td>\n",
       "      <td>24.933800</td>\n",
       "      <td>5406.900000</td>\n",
       "      <td>8.262600</td>\n",
       "      <td>1146.657263</td>\n",
       "      <td>1.31940</td>\n",
       "      <td>4.242800</td>\n",
       "      <td>0.001200</td>\n",
       "      <td>56.023832</td>\n",
       "      <td>38.183790</td>\n",
       "      <td>17.842400</td>\n",
       "    </tr>\n",
       "    <tr>\n",
       "      <th>std</th>\n",
       "      <td>4832.674037</td>\n",
       "      <td>44.179466</td>\n",
       "      <td>0.838594</td>\n",
       "      <td>19.358040</td>\n",
       "      <td>18.048618</td>\n",
       "      <td>9.950018</td>\n",
       "      <td>5.483228</td>\n",
       "      <td>10.220211</td>\n",
       "      <td>18.573149</td>\n",
       "      <td>0.120070</td>\n",
       "      <td>17.532202</td>\n",
       "      <td>4026.614773</td>\n",
       "      <td>23.863762</td>\n",
       "      <td>1044.744231</td>\n",
       "      <td>1.47994</td>\n",
       "      <td>4.777365</td>\n",
       "      <td>0.034624</td>\n",
       "      <td>17.154592</td>\n",
       "      <td>15.298886</td>\n",
       "      <td>12.540918</td>\n",
       "    </tr>\n",
       "    <tr>\n",
       "      <th>min</th>\n",
       "      <td>1.000000</td>\n",
       "      <td>0.000000</td>\n",
       "      <td>0.000000</td>\n",
       "      <td>1.378543</td>\n",
       "      <td>0.333490</td>\n",
       "      <td>0.000000</td>\n",
       "      <td>1.000000</td>\n",
       "      <td>1.000000</td>\n",
       "      <td>1908.000000</td>\n",
       "      <td>0.000000</td>\n",
       "      <td>0.000000</td>\n",
       "      <td>168.000000</td>\n",
       "      <td>0.000000</td>\n",
       "      <td>0.000000</td>\n",
       "      <td>0.00000</td>\n",
       "      <td>0.000000</td>\n",
       "      <td>0.000000</td>\n",
       "      <td>15.948246</td>\n",
       "      <td>0.333490</td>\n",
       "      <td>2.000000</td>\n",
       "    </tr>\n",
       "    <tr>\n",
       "      <th>25%</th>\n",
       "      <td>4221.750000</td>\n",
       "      <td>21.000000</td>\n",
       "      <td>1.000000</td>\n",
       "      <td>42.204429</td>\n",
       "      <td>24.404266</td>\n",
       "      <td>1.000000</td>\n",
       "      <td>4.000000</td>\n",
       "      <td>9.000000</td>\n",
       "      <td>1973.000000</td>\n",
       "      <td>0.019509</td>\n",
       "      <td>6.000000</td>\n",
       "      <td>1564.000000</td>\n",
       "      <td>0.000000</td>\n",
       "      <td>325.000000</td>\n",
       "      <td>0.00000</td>\n",
       "      <td>1.000000</td>\n",
       "      <td>0.000000</td>\n",
       "      <td>42.134067</td>\n",
       "      <td>27.224020</td>\n",
       "      <td>12.000000</td>\n",
       "    </tr>\n",
       "    <tr>\n",
       "      <th>50%</th>\n",
       "      <td>8320.500000</td>\n",
       "      <td>37.000000</td>\n",
       "      <td>2.000000</td>\n",
       "      <td>53.327724</td>\n",
       "      <td>34.823829</td>\n",
       "      <td>6.000000</td>\n",
       "      <td>7.000000</td>\n",
       "      <td>15.000000</td>\n",
       "      <td>1977.000000</td>\n",
       "      <td>0.072158</td>\n",
       "      <td>25.000000</td>\n",
       "      <td>5285.000000</td>\n",
       "      <td>2.000000</td>\n",
       "      <td>900.000000</td>\n",
       "      <td>1.00000</td>\n",
       "      <td>3.000000</td>\n",
       "      <td>0.000000</td>\n",
       "      <td>52.320323</td>\n",
       "      <td>34.103139</td>\n",
       "      <td>17.000000</td>\n",
       "    </tr>\n",
       "    <tr>\n",
       "      <th>75%</th>\n",
       "      <td>12598.250000</td>\n",
       "      <td>77.000000</td>\n",
       "      <td>2.000000</td>\n",
       "      <td>66.473875</td>\n",
       "      <td>47.251656</td>\n",
       "      <td>9.000000</td>\n",
       "      <td>12.000000</td>\n",
       "      <td>17.000000</td>\n",
       "      <td>2000.000000</td>\n",
       "      <td>0.195781</td>\n",
       "      <td>36.000000</td>\n",
       "      <td>7287.000000</td>\n",
       "      <td>5.000000</td>\n",
       "      <td>1548.000000</td>\n",
       "      <td>2.00000</td>\n",
       "      <td>6.000000</td>\n",
       "      <td>0.000000</td>\n",
       "      <td>64.443362</td>\n",
       "      <td>46.410005</td>\n",
       "      <td>24.000000</td>\n",
       "    </tr>\n",
       "    <tr>\n",
       "      <th>max</th>\n",
       "      <td>16795.000000</td>\n",
       "      <td>212.000000</td>\n",
       "      <td>17.000000</td>\n",
       "      <td>303.071094</td>\n",
       "      <td>303.071094</td>\n",
       "      <td>620.000000</td>\n",
       "      <td>78.000000</td>\n",
       "      <td>99.000000</td>\n",
       "      <td>2020.000000</td>\n",
       "      <td>0.521867</td>\n",
       "      <td>74.000000</td>\n",
       "      <td>19083.000000</td>\n",
       "      <td>141.000000</td>\n",
       "      <td>4849.000000</td>\n",
       "      <td>6.00000</td>\n",
       "      <td>23.000000</td>\n",
       "      <td>1.000000</td>\n",
       "      <td>223.453689</td>\n",
       "      <td>169.901701</td>\n",
       "      <td>99.000000</td>\n",
       "    </tr>\n",
       "  </tbody>\n",
       "</table>\n",
       "</div>"
      ],
      "text/plain": [
       "                 Id   DistrictId        Rooms       Square   LifeSquare  \\\n",
       "count   5000.000000  5000.000000  5000.000000  5000.000000  5000.000000   \n",
       "mean    8412.595400    51.279200     1.910000    56.888383    38.320648   \n",
       "std     4832.674037    44.179466     0.838594    19.358040    18.048618   \n",
       "min        1.000000     0.000000     0.000000     1.378543     0.333490   \n",
       "25%     4221.750000    21.000000     1.000000    42.204429    24.404266   \n",
       "50%     8320.500000    37.000000     2.000000    53.327724    34.823829   \n",
       "75%    12598.250000    77.000000     2.000000    66.473875    47.251656   \n",
       "max    16795.000000   212.000000    17.000000   303.071094   303.071094   \n",
       "\n",
       "       KitchenSquare        Floor   HouseFloor    HouseYear    Ecology_1  \\\n",
       "count    5000.000000  5000.000000  5000.000000  5000.000000  5000.000000   \n",
       "mean        5.976800     8.632000    15.224000  1984.392600     0.119874   \n",
       "std         9.950018     5.483228    10.220211    18.573149     0.120070   \n",
       "min         0.000000     1.000000     1.000000  1908.000000     0.000000   \n",
       "25%         1.000000     4.000000     9.000000  1973.000000     0.019509   \n",
       "50%         6.000000     7.000000    15.000000  1977.000000     0.072158   \n",
       "75%         9.000000    12.000000    17.000000  2000.000000     0.195781   \n",
       "max       620.000000    78.000000    99.000000  2020.000000     0.521867   \n",
       "\n",
       "          Social_1      Social_2     Social_3  Healthcare_1  Helthcare_2  \\\n",
       "count  5000.000000   5000.000000  5000.000000   2623.000000   5000.00000   \n",
       "mean     24.933800   5406.900000     8.262600   1146.657263      1.31940   \n",
       "std      17.532202   4026.614773    23.863762   1044.744231      1.47994   \n",
       "min       0.000000    168.000000     0.000000      0.000000      0.00000   \n",
       "25%       6.000000   1564.000000     0.000000    325.000000      0.00000   \n",
       "50%      25.000000   5285.000000     2.000000    900.000000      1.00000   \n",
       "75%      36.000000   7287.000000     5.000000   1548.000000      2.00000   \n",
       "max      74.000000  19083.000000   141.000000   4849.000000      6.00000   \n",
       "\n",
       "           Shops_1     OldHouse   Max_square  Max_lifesquare  Max_housefloor  \n",
       "count  5000.000000  5000.000000  5000.000000     5000.000000     5000.000000  \n",
       "mean      4.242800     0.001200    56.023832       38.183790       17.842400  \n",
       "std       4.777365     0.034624    17.154592       15.298886       12.540918  \n",
       "min       0.000000     0.000000    15.948246        0.333490        2.000000  \n",
       "25%       1.000000     0.000000    42.134067       27.224020       12.000000  \n",
       "50%       3.000000     0.000000    52.320323       34.103139       17.000000  \n",
       "75%       6.000000     0.000000    64.443362       46.410005       24.000000  \n",
       "max      23.000000     1.000000   223.453689      169.901701       99.000000  "
      ]
     },
     "execution_count": 83,
     "metadata": {},
     "output_type": "execute_result"
    }
   ],
   "source": [
    "test.describe()"
   ]
  },
  {
   "cell_type": "code",
   "execution_count": 84,
   "metadata": {},
   "outputs": [
    {
     "name": "stdout",
     "output_type": "stream",
     "text": [
      "<class 'pandas.core.frame.DataFrame'>\n",
      "Int64Index: 5000 entries, 0 to 4999\n",
      "Data columns (total 24 columns):\n",
      "Id                5000 non-null int64\n",
      "DistrictId        5000 non-null int64\n",
      "Rooms             5000 non-null float64\n",
      "Square            5000 non-null float64\n",
      "LifeSquare        5000 non-null float64\n",
      "KitchenSquare     5000 non-null float64\n",
      "Floor             5000 non-null int64\n",
      "HouseFloor        5000 non-null float64\n",
      "HouseYear         5000 non-null int64\n",
      "Ecology_1         5000 non-null float64\n",
      "Ecology_2         5000 non-null object\n",
      "Ecology_3         5000 non-null object\n",
      "Social_1          5000 non-null int64\n",
      "Social_2          5000 non-null int64\n",
      "Social_3          5000 non-null int64\n",
      "Healthcare_1      2623 non-null float64\n",
      "Helthcare_2       5000 non-null int64\n",
      "Shops_1           5000 non-null int64\n",
      "Shops_2           5000 non-null object\n",
      "OldHouse          5000 non-null int32\n",
      "Max_square        5000 non-null float64\n",
      "Max_lifesquare    5000 non-null float64\n",
      "Max_housefloor    5000 non-null float64\n",
      "Mean_price        4770 non-null float64\n",
      "dtypes: float64(11), int32(1), int64(9), object(3)\n",
      "memory usage: 957.0+ KB\n"
     ]
    }
   ],
   "source": [
    "test = pd.merge(test, mean_price, on=['DistrictId', 'Rooms', 'Ecology_1'], how='left')\n",
    "test.info()"
   ]
  },
  {
   "cell_type": "code",
   "execution_count": 85,
   "metadata": {},
   "outputs": [
    {
     "name": "stdout",
     "output_type": "stream",
     "text": [
      "<class 'pandas.core.frame.DataFrame'>\n",
      "Int64Index: 5000 entries, 0 to 4999\n",
      "Data columns (total 25 columns):\n",
      "Id                5000 non-null int64\n",
      "DistrictId        5000 non-null int64\n",
      "Rooms             5000 non-null float64\n",
      "Square            5000 non-null float64\n",
      "LifeSquare        5000 non-null float64\n",
      "KitchenSquare     5000 non-null float64\n",
      "Floor             5000 non-null int64\n",
      "HouseFloor        5000 non-null float64\n",
      "HouseYear         5000 non-null int64\n",
      "Ecology_1         5000 non-null float64\n",
      "Ecology_2         5000 non-null object\n",
      "Ecology_3         5000 non-null object\n",
      "Social_1          5000 non-null int64\n",
      "Social_2          5000 non-null int64\n",
      "Social_3          5000 non-null int64\n",
      "Healthcare_1      2623 non-null float64\n",
      "Helthcare_2       5000 non-null int64\n",
      "Shops_1           5000 non-null int64\n",
      "Shops_2           5000 non-null object\n",
      "OldHouse          5000 non-null int32\n",
      "Max_square        5000 non-null float64\n",
      "Max_lifesquare    5000 non-null float64\n",
      "Max_housefloor    5000 non-null float64\n",
      "Mean_price        4770 non-null float64\n",
      "Mean_price2       4997 non-null float64\n",
      "dtypes: float64(12), int32(1), int64(9), object(3)\n",
      "memory usage: 996.1+ KB\n"
     ]
    }
   ],
   "source": [
    "test = pd.merge(test, mean_price_2, on=['Rooms'], how='left')\n",
    "test.info()"
   ]
  },
  {
   "cell_type": "code",
   "execution_count": 86,
   "metadata": {},
   "outputs": [
    {
     "data": {
      "text/html": [
       "<div>\n",
       "<style scoped>\n",
       "    .dataframe tbody tr th:only-of-type {\n",
       "        vertical-align: middle;\n",
       "    }\n",
       "\n",
       "    .dataframe tbody tr th {\n",
       "        vertical-align: top;\n",
       "    }\n",
       "\n",
       "    .dataframe thead th {\n",
       "        text-align: right;\n",
       "    }\n",
       "</style>\n",
       "<table border=\"1\" class=\"dataframe\">\n",
       "  <thead>\n",
       "    <tr style=\"text-align: right;\">\n",
       "      <th></th>\n",
       "      <th>Id</th>\n",
       "      <th>DistrictId</th>\n",
       "      <th>Rooms</th>\n",
       "      <th>Square</th>\n",
       "      <th>LifeSquare</th>\n",
       "      <th>KitchenSquare</th>\n",
       "      <th>Floor</th>\n",
       "      <th>HouseFloor</th>\n",
       "      <th>HouseYear</th>\n",
       "      <th>Ecology_1</th>\n",
       "      <th>...</th>\n",
       "      <th>Healthcare_1</th>\n",
       "      <th>Helthcare_2</th>\n",
       "      <th>Shops_1</th>\n",
       "      <th>Shops_2</th>\n",
       "      <th>OldHouse</th>\n",
       "      <th>Max_square</th>\n",
       "      <th>Max_lifesquare</th>\n",
       "      <th>Max_housefloor</th>\n",
       "      <th>Mean_price</th>\n",
       "      <th>Mean_price2</th>\n",
       "    </tr>\n",
       "  </thead>\n",
       "  <tbody>\n",
       "    <tr>\n",
       "      <th>2406</th>\n",
       "      <td>3343</td>\n",
       "      <td>58</td>\n",
       "      <td>0.0</td>\n",
       "      <td>116.824201</td>\n",
       "      <td>113.692424</td>\n",
       "      <td>0.0</td>\n",
       "      <td>3</td>\n",
       "      <td>3.0</td>\n",
       "      <td>1977</td>\n",
       "      <td>0.437885</td>\n",
       "      <td>...</td>\n",
       "      <td>1084.0</td>\n",
       "      <td>0</td>\n",
       "      <td>5</td>\n",
       "      <td>B</td>\n",
       "      <td>0</td>\n",
       "      <td>116.824201</td>\n",
       "      <td>113.692424</td>\n",
       "      <td>17.0</td>\n",
       "      <td>NaN</td>\n",
       "      <td>NaN</td>\n",
       "    </tr>\n",
       "    <tr>\n",
       "      <th>2524</th>\n",
       "      <td>10729</td>\n",
       "      <td>27</td>\n",
       "      <td>0.0</td>\n",
       "      <td>76.345154</td>\n",
       "      <td>42.820796</td>\n",
       "      <td>12.0</td>\n",
       "      <td>14</td>\n",
       "      <td>20.0</td>\n",
       "      <td>1977</td>\n",
       "      <td>0.017647</td>\n",
       "      <td>...</td>\n",
       "      <td>NaN</td>\n",
       "      <td>0</td>\n",
       "      <td>0</td>\n",
       "      <td>B</td>\n",
       "      <td>0</td>\n",
       "      <td>76.345154</td>\n",
       "      <td>42.820796</td>\n",
       "      <td>20.0</td>\n",
       "      <td>NaN</td>\n",
       "      <td>NaN</td>\n",
       "    </tr>\n",
       "    <tr>\n",
       "      <th>3398</th>\n",
       "      <td>1435</td>\n",
       "      <td>111</td>\n",
       "      <td>17.0</td>\n",
       "      <td>52.866107</td>\n",
       "      <td>32.528342</td>\n",
       "      <td>8.0</td>\n",
       "      <td>15</td>\n",
       "      <td>17.0</td>\n",
       "      <td>1987</td>\n",
       "      <td>0.093443</td>\n",
       "      <td>...</td>\n",
       "      <td>3300.0</td>\n",
       "      <td>2</td>\n",
       "      <td>4</td>\n",
       "      <td>B</td>\n",
       "      <td>0</td>\n",
       "      <td>52.866107</td>\n",
       "      <td>32.528342</td>\n",
       "      <td>17.0</td>\n",
       "      <td>NaN</td>\n",
       "      <td>NaN</td>\n",
       "    </tr>\n",
       "  </tbody>\n",
       "</table>\n",
       "<p>3 rows × 25 columns</p>\n",
       "</div>"
      ],
      "text/plain": [
       "         Id  DistrictId  Rooms      Square  LifeSquare  KitchenSquare  Floor  \\\n",
       "2406   3343          58    0.0  116.824201  113.692424            0.0      3   \n",
       "2524  10729          27    0.0   76.345154   42.820796           12.0     14   \n",
       "3398   1435         111   17.0   52.866107   32.528342            8.0     15   \n",
       "\n",
       "      HouseFloor  HouseYear  Ecology_1     ...      Healthcare_1 Helthcare_2  \\\n",
       "2406         3.0       1977   0.437885     ...            1084.0           0   \n",
       "2524        20.0       1977   0.017647     ...               NaN           0   \n",
       "3398        17.0       1987   0.093443     ...            3300.0           2   \n",
       "\n",
       "      Shops_1  Shops_2  OldHouse  Max_square  Max_lifesquare  Max_housefloor  \\\n",
       "2406        5        B         0  116.824201      113.692424            17.0   \n",
       "2524        0        B         0   76.345154       42.820796            20.0   \n",
       "3398        4        B         0   52.866107       32.528342            17.0   \n",
       "\n",
       "     Mean_price  Mean_price2  \n",
       "2406        NaN          NaN  \n",
       "2524        NaN          NaN  \n",
       "3398        NaN          NaN  \n",
       "\n",
       "[3 rows x 25 columns]"
      ]
     },
     "execution_count": 86,
     "metadata": {},
     "output_type": "execute_result"
    }
   ],
   "source": [
    "test.loc[test['Mean_price2'].isnull()]"
   ]
  },
  {
   "cell_type": "code",
   "execution_count": 87,
   "metadata": {},
   "outputs": [
    {
     "data": {
      "text/html": [
       "<div>\n",
       "<style scoped>\n",
       "    .dataframe tbody tr th:only-of-type {\n",
       "        vertical-align: middle;\n",
       "    }\n",
       "\n",
       "    .dataframe tbody tr th {\n",
       "        vertical-align: top;\n",
       "    }\n",
       "\n",
       "    .dataframe thead th {\n",
       "        text-align: right;\n",
       "    }\n",
       "</style>\n",
       "<table border=\"1\" class=\"dataframe\">\n",
       "  <thead>\n",
       "    <tr style=\"text-align: right;\">\n",
       "      <th></th>\n",
       "      <th>Id</th>\n",
       "      <th>DistrictId</th>\n",
       "      <th>Rooms</th>\n",
       "      <th>Square</th>\n",
       "      <th>LifeSquare</th>\n",
       "      <th>KitchenSquare</th>\n",
       "      <th>Floor</th>\n",
       "      <th>HouseFloor</th>\n",
       "      <th>HouseYear</th>\n",
       "      <th>Ecology_1</th>\n",
       "      <th>...</th>\n",
       "      <th>Healthcare_1</th>\n",
       "      <th>Helthcare_2</th>\n",
       "      <th>Shops_1</th>\n",
       "      <th>Shops_2</th>\n",
       "      <th>OldHouse</th>\n",
       "      <th>Max_square</th>\n",
       "      <th>Max_lifesquare</th>\n",
       "      <th>Max_housefloor</th>\n",
       "      <th>Mean_price</th>\n",
       "      <th>Mean_price2</th>\n",
       "    </tr>\n",
       "  </thead>\n",
       "  <tbody>\n",
       "  </tbody>\n",
       "</table>\n",
       "<p>0 rows × 25 columns</p>\n",
       "</div>"
      ],
      "text/plain": [
       "Empty DataFrame\n",
       "Columns: [Id, DistrictId, Rooms, Square, LifeSquare, KitchenSquare, Floor, HouseFloor, HouseYear, Ecology_1, Ecology_2, Ecology_3, Social_1, Social_2, Social_3, Healthcare_1, Helthcare_2, Shops_1, Shops_2, OldHouse, Max_square, Max_lifesquare, Max_housefloor, Mean_price, Mean_price2]\n",
       "Index: []\n",
       "\n",
       "[0 rows x 25 columns]"
      ]
     },
     "execution_count": 87,
     "metadata": {},
     "output_type": "execute_result"
    }
   ],
   "source": [
    "test.loc[test['Rooms'] == 0, 'Mean_price2'] = test.loc[test['Rooms'] == 1, 'Mean_price2'].median()\n",
    "test.loc[test['Rooms'] == 17, 'Mean_price2'] = test.loc[test['Rooms'] == 6, 'Mean_price2'].median()\n",
    "test.loc[test['Mean_price2'].isnull()]"
   ]
  },
  {
   "cell_type": "code",
   "execution_count": 88,
   "metadata": {},
   "outputs": [
    {
     "name": "stdout",
     "output_type": "stream",
     "text": [
      "<class 'pandas.core.frame.DataFrame'>\n",
      "Int64Index: 5000 entries, 0 to 4999\n",
      "Data columns (total 25 columns):\n",
      "Id                5000 non-null int64\n",
      "DistrictId        5000 non-null int64\n",
      "Rooms             5000 non-null float64\n",
      "Square            5000 non-null float64\n",
      "LifeSquare        5000 non-null float64\n",
      "KitchenSquare     5000 non-null float64\n",
      "Floor             5000 non-null int64\n",
      "HouseFloor        5000 non-null float64\n",
      "HouseYear         5000 non-null int64\n",
      "Ecology_1         5000 non-null float64\n",
      "Ecology_2         5000 non-null object\n",
      "Ecology_3         5000 non-null object\n",
      "Social_1          5000 non-null int64\n",
      "Social_2          5000 non-null int64\n",
      "Social_3          5000 non-null int64\n",
      "Healthcare_1      2623 non-null float64\n",
      "Helthcare_2       5000 non-null int64\n",
      "Shops_1           5000 non-null int64\n",
      "Shops_2           5000 non-null object\n",
      "OldHouse          5000 non-null int32\n",
      "Max_square        5000 non-null float64\n",
      "Max_lifesquare    5000 non-null float64\n",
      "Max_housefloor    5000 non-null float64\n",
      "Mean_price        4770 non-null float64\n",
      "Mean_price2       5000 non-null float64\n",
      "dtypes: float64(12), int32(1), int64(9), object(3)\n",
      "memory usage: 996.1+ KB\n"
     ]
    }
   ],
   "source": [
    "test.info()"
   ]
  },
  {
   "cell_type": "code",
   "execution_count": 89,
   "metadata": {},
   "outputs": [
    {
     "data": {
      "text/plain": [
       "array([152567.21224107, 214406.50180041, 129781.17919899, ...,\n",
       "       344764.19104878, 207762.01099818, 187091.68702733])"
      ]
     },
     "execution_count": 89,
     "metadata": {},
     "output_type": "execute_result"
    }
   ],
   "source": [
    "test_pred = gbr.predict(test[fts])\n",
    "test_pred"
   ]
  },
  {
   "cell_type": "code",
   "execution_count": 90,
   "metadata": {},
   "outputs": [
    {
     "data": {
      "text/html": [
       "<div>\n",
       "<style scoped>\n",
       "    .dataframe tbody tr th:only-of-type {\n",
       "        vertical-align: middle;\n",
       "    }\n",
       "\n",
       "    .dataframe tbody tr th {\n",
       "        vertical-align: top;\n",
       "    }\n",
       "\n",
       "    .dataframe thead th {\n",
       "        text-align: right;\n",
       "    }\n",
       "</style>\n",
       "<table border=\"1\" class=\"dataframe\">\n",
       "  <thead>\n",
       "    <tr style=\"text-align: right;\">\n",
       "      <th></th>\n",
       "      <th>Id</th>\n",
       "      <th>Price</th>\n",
       "    </tr>\n",
       "  </thead>\n",
       "  <tbody>\n",
       "    <tr>\n",
       "      <th>0</th>\n",
       "      <td>725</td>\n",
       "      <td>152567.212241</td>\n",
       "    </tr>\n",
       "    <tr>\n",
       "      <th>1</th>\n",
       "      <td>15856</td>\n",
       "      <td>214406.501800</td>\n",
       "    </tr>\n",
       "    <tr>\n",
       "      <th>2</th>\n",
       "      <td>5480</td>\n",
       "      <td>129781.179199</td>\n",
       "    </tr>\n",
       "    <tr>\n",
       "      <th>3</th>\n",
       "      <td>15664</td>\n",
       "      <td>363587.539635</td>\n",
       "    </tr>\n",
       "    <tr>\n",
       "      <th>4</th>\n",
       "      <td>14275</td>\n",
       "      <td>143102.461584</td>\n",
       "    </tr>\n",
       "  </tbody>\n",
       "</table>\n",
       "</div>"
      ],
      "text/plain": [
       "      Id          Price\n",
       "0    725  152567.212241\n",
       "1  15856  214406.501800\n",
       "2   5480  129781.179199\n",
       "3  15664  363587.539635\n",
       "4  14275  143102.461584"
      ]
     },
     "execution_count": 90,
     "metadata": {},
     "output_type": "execute_result"
    }
   ],
   "source": [
    "answer = pd.DataFrame({'Id': test['Id'], 'Price': test_pred})\n",
    "answer.head()"
   ]
  },
  {
   "cell_type": "code",
   "execution_count": 91,
   "metadata": {},
   "outputs": [],
   "source": [
    "answer.to_csv('DFrantsuzov_predictions.csv', index=False)"
   ]
  },
  {
   "cell_type": "code",
   "execution_count": null,
   "metadata": {},
   "outputs": [],
   "source": []
  }
 ],
 "metadata": {
  "kernelspec": {
   "display_name": "Python 3",
   "language": "python",
   "name": "python3"
  },
  "language_info": {
   "codemirror_mode": {
    "name": "ipython",
    "version": 3
   },
   "file_extension": ".py",
   "mimetype": "text/x-python",
   "name": "python",
   "nbconvert_exporter": "python",
   "pygments_lexer": "ipython3",
   "version": "3.7.1"
  }
 },
 "nbformat": 4,
 "nbformat_minor": 1
}
